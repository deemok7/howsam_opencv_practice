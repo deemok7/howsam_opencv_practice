{
 "cells": [
  {
   "cell_type": "markdown",
   "metadata": {},
   "source": [
    "# <font color='#FFE15D'>**Week 7: Geometric Transformation**</font> 📐"
   ]
  },
  {
   "cell_type": "markdown",
   "metadata": {
    "colab_type": "text",
    "id": "QAw_hhj9CsUA",
    "jp-MarkdownHeadingCollapsed": true,
    "tags": []
   },
   "source": [
    "## <span style=\"font-size: 0.9em;\">🟥</span> **Import**\n"
   ]
  },
  {
   "cell_type": "code",
   "execution_count": 1,
   "metadata": {},
   "outputs": [],
   "source": [
    "import cv2\n",
    "import numpy as np\n",
    "import matplotlib.pyplot as plt"
   ]
  },
  {
   "cell_type": "code",
   "execution_count": 2,
   "metadata": {},
   "outputs": [
    {
     "data": {
      "text/plain": [
       "'4.9.0'"
      ]
     },
     "execution_count": 2,
     "metadata": {},
     "output_type": "execute_result"
    }
   ],
   "source": [
    "cv2.__version__"
   ]
  },
  {
   "cell_type": "markdown",
   "metadata": {
    "jp-MarkdownHeadingCollapsed": true
   },
   "source": [
    "## <span style=\"font-size: 0.9em;\">🟥</span> **Section 1: from Scratch**"
   ]
  },
  {
   "cell_type": "code",
   "execution_count": 174,
   "metadata": {},
   "outputs": [],
   "source": [
    "img = cv2.imread('data/t.jpg')\n",
    "\n",
    "cv2.imshow('Example Image', img)\n",
    "cv2.waitKey()\n",
    "cv2.destroyAllWindows()"
   ]
  },
  {
   "cell_type": "markdown",
   "metadata": {
    "id": "8d25DyDxov7H",
    "jp-MarkdownHeadingCollapsed": true,
    "tags": []
   },
   "source": [
    "### <span style=\"font-size: 0.9em;\">🟧</span> **Rotate**"
   ]
  },
  {
   "cell_type": "code",
   "execution_count": 88,
   "metadata": {},
   "outputs": [],
   "source": [
    "angle = 45"
   ]
  },
  {
   "cell_type": "code",
   "execution_count": 90,
   "metadata": {},
   "outputs": [
    {
     "name": "stdout",
     "output_type": "stream",
     "text": [
      "172 200\n"
     ]
    }
   ],
   "source": [
    "rad = np.deg2rad(angle)\n",
    "\n",
    "rotation_matrix = np.array([\n",
    "    [np.cos(rad), -np.sin(rad)],\n",
    "    [np.sin(rad),  np.cos(rad)]\n",
    "])\n",
    "\n",
    "\n",
    "height, width = img.shape[:2]\n",
    "center_x, center_y = width//2, height//2\n",
    "print(center_x, center_y)\n",
    "\n",
    "rot_img = np.zeros(img.shape, dtype=np.uint8)\n",
    "\n",
    "\n",
    "for y in range(height):\n",
    "    for x in range(width):\n",
    "        xy_coords = np.array([[x - center_x], [y - center_y]])\n",
    "\n",
    "        x_dst, y_dst = rotation_matrix @ xy_coords\n",
    "        \n",
    "        x_dst = int(np.round(x_dst + center_x))\n",
    "        y_dst = int(np.round(y_dst + center_y))\n",
    "\n",
    "        if (0 <= x_dst < width) and (0 <= y_dst < height):\n",
    "            rot_img[y_dst, x_dst] = img[y, x]\n",
    "        # break\n",
    "    # break\n",
    "        \n",
    "\n",
    "cv2.imshow('Image', img)\n",
    "cv2.imshow('Rotated Image', rot_img)\n",
    "cv2.waitKey()\n",
    "cv2.destroyAllWindows()"
   ]
  },
  {
   "cell_type": "code",
   "execution_count": 97,
   "metadata": {},
   "outputs": [
    {
     "name": "stdout",
     "output_type": "stream",
     "text": [
      "172 200\n"
     ]
    }
   ],
   "source": [
    "angle = 180\n",
    "rad = np.deg2rad(angle)\n",
    "\n",
    "rotation_matrix = np.array([\n",
    "    [np.cos(rad), -np.sin(rad)],\n",
    "    [np.sin(rad),  np.cos(rad)]\n",
    "])\n",
    "\n",
    "inv_rotation_matrix = np.linalg.inv(rotation_matrix)\n",
    "# print(rotation_matrix)\n",
    "# print(inv_rotation_matrix)\n",
    "\n",
    "\n",
    "height, width = img.shape[:2]\n",
    "center_x, center_y = width//2, height//2\n",
    "print(center_x, center_y)\n",
    "\n",
    "rot_img = np.zeros(img.shape, dtype=np.uint8)\n",
    "\n",
    "\n",
    "for y in range(height):\n",
    "    for x in range(width):\n",
    "        xy_coords = np.array([[x - center_x], [y - center_y]])\n",
    "\n",
    "        x_src, y_src = inv_rotation_matrix @ xy_coords\n",
    "        \n",
    "        x_src = int(np.round(x_src + center_x))\n",
    "        y_src = int(np.round(y_src + center_y))\n",
    "\n",
    "        if (0 <= x_src < width) and (0 <= y_src < height):\n",
    "            rot_img[y, x] = img[y_src, x_src]\n",
    "        # break\n",
    "    # break\n",
    "        \n",
    "\n",
    "cv2.imshow('Image', img)\n",
    "cv2.imshow('Rotated Image', rot_img)\n",
    "cv2.waitKey()\n",
    "cv2.destroyAllWindows()"
   ]
  },
  {
   "cell_type": "markdown",
   "metadata": {
    "id": "8d25DyDxov7H",
    "jp-MarkdownHeadingCollapsed": true,
    "tags": []
   },
   "source": [
    "#### <span style=\"font-size: 0.9em;\">🟪</span> **Implement rotation using vectorization techniques**"
   ]
  },
  {
   "cell_type": "code",
   "execution_count": null,
   "metadata": {},
   "outputs": [],
   "source": []
  },
  {
   "cell_type": "markdown",
   "metadata": {
    "id": "8d25DyDxov7H",
    "jp-MarkdownHeadingCollapsed": true,
    "tags": []
   },
   "source": [
    "#### <span style=\"font-size: 0.9em;\">🟪</span> **Implement rotation so that the resulting image is larger than the input image**"
   ]
  },
  {
   "cell_type": "markdown",
   "metadata": {},
   "source": [
    "<div style=\"font-size: 18pt;\">\n",
    "    \n",
    "- Different modes of image rotation:\n",
    "  2. Rotated Image with Same Size as Input\n",
    "  3. Rotated Image Larger than Input (No Loss of Input Area)\n",
    "\n",
    "</div>"
   ]
  },
  {
   "attachments": {
    "39f095b5-141a-4761-9dbe-78199f4328fe.png": {
     "image/png": "[encoded data removed]"
    }
   },
   "cell_type": "markdown",
   "metadata": {},
   "source": [
    "![image.png](attachment:39f095b5-141a-4761-9dbe-78199f4328fe.png)"
   ]
  },
  {
   "cell_type": "code",
   "execution_count": null,
   "metadata": {},
   "outputs": [],
   "source": []
  },
  {
   "cell_type": "markdown",
   "metadata": {
    "id": "8d25DyDxov7H",
    "jp-MarkdownHeadingCollapsed": true,
    "tags": []
   },
   "source": [
    "### <span style=\"font-size: 0.9em;\">🟪</span> **Resize**"
   ]
  },
  {
   "cell_type": "code",
   "execution_count": null,
   "metadata": {},
   "outputs": [],
   "source": [
    "a, b = 2, 2"
   ]
  },
  {
   "cell_type": "code",
   "execution_count": null,
   "metadata": {},
   "outputs": [],
   "source": []
  },
  {
   "cell_type": "markdown",
   "metadata": {
    "id": "8d25DyDxov7H",
    "jp-MarkdownHeadingCollapsed": true,
    "tags": []
   },
   "source": [
    "### <span style=\"font-size: 0.9em;\">🟪</span> **Flip**"
   ]
  },
  {
   "cell_type": "code",
   "execution_count": null,
   "metadata": {},
   "outputs": [],
   "source": []
  },
  {
   "cell_type": "markdown",
   "metadata": {
    "id": "8d25DyDxov7H",
    "jp-MarkdownHeadingCollapsed": true,
    "tags": []
   },
   "source": [
    "### <span style=\"font-size: 0.9em;\">🟪</span> **Skew**"
   ]
  },
  {
   "cell_type": "code",
   "execution_count": null,
   "metadata": {},
   "outputs": [],
   "source": [
    "sx, sy = 2, 1"
   ]
  },
  {
   "cell_type": "code",
   "execution_count": null,
   "metadata": {},
   "outputs": [],
   "source": []
  },
  {
   "cell_type": "markdown",
   "metadata": {
    "id": "8d25DyDxov7H",
    "jp-MarkdownHeadingCollapsed": true,
    "tags": []
   },
   "source": [
    "### <span style=\"font-size: 0.9em;\">🟧</span> **Finding Unknow Transformation**"
   ]
  },
  {
   "cell_type": "markdown",
   "metadata": {},
   "source": [
    "$$\n",
    "\\begin{bmatrix}\n",
    "    x_1' \\\\\n",
    "    y_1' \\\\\n",
    "    x_2' \\\\\n",
    "    y_2' \\\\\n",
    "    \\vdots \\\\\n",
    "    x_n' \\\\\n",
    "    y_n' \n",
    "\\end{bmatrix} =\n",
    "\\begin{bmatrix}\n",
    "    x_1 & y_1 & 0 & 0 \\\\\n",
    "    0 & 0 & x_1 & y_1 \\\\\n",
    "    x_2 & y_2 & 0 & 0 \\\\\n",
    "    0 & 0 & x_2 & y_2 \\\\\n",
    "    \\vdots & \\vdots & \\vdots & \\vdots \\\\\n",
    "    x_n & y_n & 0 & 0 \\\\\n",
    "    0 & 0 & x_n & y_n \n",
    "\\end{bmatrix}\n",
    "\\begin{bmatrix}\n",
    "    a \\\\\n",
    "    b \\\\\n",
    "    c \\\\\n",
    "    d \n",
    "\\end{bmatrix}\n",
    "$$\n"
   ]
  },
  {
   "cell_type": "code",
   "execution_count": 153,
   "metadata": {},
   "outputs": [
    {
     "name": "stdout",
     "output_type": "stream",
     "text": [
      "[[ 28  28  28  28 101 101 101 101 370 370 370 370]\n",
      " [ 31 171 172 312  31 129 214 312 129 171 172 214]]\n",
      "\n",
      "[[ 31 171 172 312  31 129 214 312 129 171 172 214]\n",
      " [ 28  28  28  28 101 101 101 101 370 370 370 370]]\n"
     ]
    }
   ],
   "source": [
    "src = np.load(\"data/src.npy\")\n",
    "dst = np.load(\"data/dst.npy\")\n",
    "print(src)\n",
    "print()\n",
    "print(dst)"
   ]
  },
  {
   "cell_type": "code",
   "execution_count": 173,
   "metadata": {},
   "outputs": [
    {
     "data": {
      "text/plain": [
       "array([[-0.,  1.],\n",
       "       [ 1.,  0.]])"
      ]
     },
     "execution_count": 173,
     "metadata": {},
     "output_type": "execute_result"
    }
   ],
   "source": [
    "Xp = dst.flatten(order='F')\n",
    "\n",
    "A = np.zeros((src.shape[1]*2, 4))\n",
    "A[::2, :2] = src.T\n",
    "A[1::2, 2:] = src.T\n",
    "\n",
    "T = np.linalg.inv(A.T @ A) @ A.T @ Xp\n",
    "T = T.reshape((2, 2)).round()\n",
    "T"
   ]
  },
  {
   "cell_type": "code",
   "execution_count": null,
   "metadata": {},
   "outputs": [],
   "source": [
    "np.linalg.lstsq()"
   ]
  },
  {
   "cell_type": "markdown",
   "metadata": {
    "jp-MarkdownHeadingCollapsed": true
   },
   "source": [
    "## <span style=\"font-size: 0.9em;\">🟥</span> **Section 2: Affine Transformation**"
   ]
  },
  {
   "cell_type": "markdown",
   "metadata": {
    "jp-MarkdownHeadingCollapsed": true
   },
   "source": [
    "<div style=\"font-size: 20px;\">\n",
    "\n",
    "<p><b>Key Functions for Affine Transformations in OpenCV</b></p>\n",
    "\n",
    "<ol>\n",
    "    <li><strong><code>cv2.getAffineTransform()</code></strong>: Computes the 2x3 affine transformation matrix from three pairs of corresponding points.</li>\n",
    "    <li><strong><code>cv2.warpAffine()</code></strong>: Applies an affine transformation to an image using the 2x3 transformation matrix.</li>\n",
    "</ol>\n",
    "\n",
    "</div>\n"
   ]
  },
  {
   "cell_type": "markdown",
   "metadata": {
    "id": "8d25DyDxov7H",
    "jp-MarkdownHeadingCollapsed": true,
    "tags": []
   },
   "source": [
    "### <span style=\"font-size: 0.9em;\">🟧</span> **Unknown Transformation Matrix**"
   ]
  },
  {
   "cell_type": "code",
   "execution_count": 20,
   "metadata": {},
   "outputs": [
    {
     "name": "stdout",
     "output_type": "stream",
     "text": [
      "[[-7.45798810e-01 -1.80390087e+00  1.02218253e+03]\n",
      " [ 1.48687099e+00 -5.66130795e-01  1.34938208e+02]]\n"
     ]
    }
   ],
   "source": [
    "img = cv2.imread(\"data/book-1.bmp\")\n",
    "(h, w) = img.shape[:2]\n",
    "\n",
    "src_points = np.float32([[108, 522], [17, 283], [495, 362]])\n",
    "dst_points = np.float32([[0, 0], [w-1, 0], [0, h-1]])\n",
    "\n",
    "M = cv2.getAffineTransform(src_points, dst_points)\n",
    "print(M)\n",
    "\n",
    "transformed_image = cv2.warpAffine(img, M, (2*w, 2*h))\n",
    "\n",
    "for p in src_points:\n",
    "    cv2.circle(img, np.int32(p), 5, (0, 0, 244), -1)\n",
    "\n",
    "cv2.imshow(\"Original Image\", img)\n",
    "cv2.imshow(\"Transformed Image\", transformed_image)\n",
    "cv2.waitKey()\n",
    "cv2.destroyAllWindows()"
   ]
  },
  {
   "cell_type": "code",
   "execution_count": 23,
   "metadata": {},
   "outputs": [
    {
     "data": {
      "text/plain": [
       "(255, 418, 0.6100478468899522)"
      ]
     },
     "execution_count": 23,
     "metadata": {},
     "output_type": "execute_result"
    }
   ],
   "source": [
    "src_points = np.float32([[108, 522], [17, 283], [495, 362]])\n",
    "\n",
    "book_width = int(np.linalg.norm(src_points[0]-src_points[1], ord=2))\n",
    "book_height = int(np.linalg.norm(src_points[0]-src_points[2], ord=2))\n",
    "book_width, book_height, book_width/book_height"
   ]
  },
  {
   "cell_type": "code",
   "execution_count": 25,
   "metadata": {},
   "outputs": [
    {
     "name": "stdout",
     "output_type": "stream",
     "text": [
      "[[-3.79625046e-01 -9.18218079e-01  5.20309342e+02]\n",
      " [ 9.30968772e-01 -3.54469282e-01  8.44883376e+01]]\n"
     ]
    }
   ],
   "source": [
    "img = cv2.imread(\"data/book-1.bmp\")\n",
    "(h, w) = img.shape[:2]\n",
    "\n",
    "src_points = np.float32([[108, 522], [17, 283], [495, 362]])\n",
    "dst_points = np.float32([[0, 0], [book_width-1, 0], [0, book_height-1]])\n",
    "\n",
    "M = cv2.getAffineTransform(src_points, dst_points)\n",
    "print(M)\n",
    "\n",
    "transformed_image = cv2.warpAffine(img, M, (w, h))\n",
    "\n",
    "for p in src_points:\n",
    "    cv2.circle(img, np.int32(p), 5, (0, 0, 244), -1)\n",
    "\n",
    "cv2.imshow(\"Original Image\", img)\n",
    "cv2.imshow(\"Transformed Image\", transformed_image)\n",
    "cv2.waitKey()\n",
    "cv2.destroyAllWindows()"
   ]
  },
  {
   "cell_type": "markdown",
   "metadata": {
    "id": "8d25DyDxov7H",
    "jp-MarkdownHeadingCollapsed": true,
    "tags": []
   },
   "source": [
    "### <span style=\"font-size: 0.9em;\">🟧</span> **Known Transformation Matrix**"
   ]
  },
  {
   "cell_type": "code",
   "execution_count": 33,
   "metadata": {},
   "outputs": [],
   "source": [
    "img = cv2.imread(\"data/book-1.bmp\")\n",
    "(h, w) = img.shape[:2]\n",
    "\n",
    "angle = 10\n",
    "rad = np.deg2rad(angle)\n",
    "rotation_matrix = np.array([\n",
    "    [np.cos(rad), -np.sin(rad), 100],\n",
    "    [np.sin(rad),  np.cos(rad), 100]\n",
    "])\n",
    "\n",
    "transformed_image = cv2.warpAffine(img, rotation_matrix, (w, h))\n",
    "\n",
    "cv2.imshow(\"Original Image\", img)\n",
    "cv2.imshow(\"Transformed Image\", transformed_image)\n",
    "cv2.waitKey()\n",
    "cv2.destroyAllWindows()"
   ]
  },
  {
   "cell_type": "markdown",
   "metadata": {
    "jp-MarkdownHeadingCollapsed": true
   },
   "source": [
    "## <span style=\"font-size: 0.9em;\">🟥</span> **Section 3: Related OpenCV Commands**"
   ]
  },
  {
   "cell_type": "markdown",
   "metadata": {
    "id": "8d25DyDxov7H",
    "jp-MarkdownHeadingCollapsed": true,
    "tags": []
   },
   "source": [
    "### <span style=\"font-size: 0.9em;\">🟧</span> **Resize**"
   ]
  },
  {
   "cell_type": "code",
   "execution_count": 58,
   "metadata": {},
   "outputs": [],
   "source": [
    "img = cv2.imread(\"data/book-1.bmp\")\n",
    "(h, w) = img.shape[:2]\n",
    "\n",
    "# dsize = (w // 2, h // 2)\n",
    "# dsize = (2*w, 2*h)\n",
    "dsize = (400, 100)\n",
    "resized_image = cv2.resize(img, dsize, interpolation=cv2.INTER_LANCZOS4)\n",
    "\n",
    "cv2.imshow(\"Original Image\", img)\n",
    "cv2.imshow(\"Resized Image\", resized_image)\n",
    "cv2.waitKey()\n",
    "cv2.destroyAllWindows()"
   ]
  },
  {
   "cell_type": "code",
   "execution_count": 61,
   "metadata": {},
   "outputs": [],
   "source": [
    "img = cv2.imread(\"data/book-1.bmp\")\n",
    "(h, w) = img.shape[:2]\n",
    "\n",
    "resized_image = cv2.resize(img, dsize=(0, 0), fx=0.5, fy=1.5)\n",
    "\n",
    "cv2.imshow(\"Original Image\", img)\n",
    "cv2.imshow(\"Resized Image\", resized_image)\n",
    "cv2.waitKey()\n",
    "cv2.destroyAllWindows()"
   ]
  },
  {
   "cell_type": "markdown",
   "metadata": {
    "id": "8d25DyDxov7H",
    "jp-MarkdownHeadingCollapsed": true,
    "tags": []
   },
   "source": [
    "### <span style=\"font-size: 0.9em;\">🟧</span> **Rotation**"
   ]
  },
  {
   "cell_type": "code",
   "execution_count": 71,
   "metadata": {},
   "outputs": [
    {
     "name": "stdout",
     "output_type": "stream",
     "text": [
      "[[   1.41421356    1.41421356 -574.48650686]\n",
      " [  -1.41421356    1.41421356  215.62027432]]\n"
     ]
    }
   ],
   "source": [
    "img = cv2.imread(\"data/book-1.bmp\")\n",
    "(h, w) = img.shape[:2]\n",
    "\n",
    "center = (w//2, h//2)\n",
    "angle = 45\n",
    "rotation_matrix = cv2.getRotationMatrix2D(center, angle, 2.0)\n",
    "print(rotation_matrix)\n",
    "rotated_image = cv2.warpAffine(img, rotation_matrix, (w, h))\n",
    "\n",
    "cv2.imshow(\"Original Image\", img)\n",
    "cv2.imshow(\"Rotated Image\", rotated_image)\n",
    "cv2.waitKey()\n",
    "cv2.destroyAllWindows()"
   ]
  },
  {
   "cell_type": "markdown",
   "metadata": {
    "id": "8d25DyDxov7H",
    "jp-MarkdownHeadingCollapsed": true,
    "tags": []
   },
   "source": [
    "### <span style=\"font-size: 0.9em;\">🟧</span> **Flip**"
   ]
  },
  {
   "cell_type": "code",
   "execution_count": 75,
   "metadata": {},
   "outputs": [],
   "source": [
    "img = cv2.imread(\"data/f.jpg\")\n",
    "\n",
    "flipped_image = cv2.flip(img, 1)\n",
    "\n",
    "cv2.imshow(\"Original Image\", img)\n",
    "cv2.imshow(\"Flipped Image\", flipped_image)\n",
    "cv2.waitKey()\n",
    "cv2.destroyAllWindows()"
   ]
  },
  {
   "cell_type": "markdown",
   "metadata": {
    "id": "8d25DyDxov7H",
    "jp-MarkdownHeadingCollapsed": true,
    "tags": []
   },
   "source": [
    "### <span style=\"font-size: 0.9em;\">🟧</span> **Translation**"
   ]
  },
  {
   "cell_type": "code",
   "execution_count": 76,
   "metadata": {},
   "outputs": [],
   "source": [
    "img = cv2.imread(\"data/f.jpg\")\n",
    "(h, w) = img.shape[:2]\n",
    "\n",
    "tx, ty = 100, 50\n",
    "translation_matrix = np.float32([\n",
    "    [1, 0, tx], \n",
    "    [0, 1, ty]\n",
    "])\n",
    "\n",
    "translated_image = cv2.warpAffine(img, translation_matrix, (w, h))\n",
    "\n",
    "cv2.imshow(\"Original Image\", img)\n",
    "cv2.imshow(\"Translated Image\", translated_image)\n",
    "cv2.waitKey()\n",
    "cv2.destroyAllWindows()\n"
   ]
  },
  {
   "cell_type": "markdown",
   "metadata": {
    "id": "8d25DyDxov7H",
    "jp-MarkdownHeadingCollapsed": true,
    "tags": []
   },
   "source": [
    "### <span style=\"font-size: 0.9em;\">🟧</span> **Skew**"
   ]
  },
  {
   "cell_type": "code",
   "execution_count": 79,
   "metadata": {},
   "outputs": [],
   "source": [
    "img = cv2.imread(\"data/f.jpg\")\n",
    "(h, w) = img.shape[:2]\n",
    "\n",
    "skew_factor = 0.5\n",
    "skew_matrix = np.float32([\n",
    "    [1, skew_factor, 0], \n",
    "    [0, 1,           0]\n",
    "])\n",
    "\n",
    "skewed_image = cv2.warpAffine(img, skew_matrix, (w + int(h * skew_factor), h))\n",
    "\n",
    "cv2.imshow(\"Original Image\", img)\n",
    "cv2.imshow(\"Skewed Image\", skewed_image)\n",
    "cv2.waitKey()\n",
    "cv2.destroyAllWindows()\n"
   ]
  },
  {
   "cell_type": "markdown",
   "metadata": {
    "jp-MarkdownHeadingCollapsed": true
   },
   "source": [
    "## <span style=\"font-size: 0.9em;\">🟥</span> **Challenge!**"
   ]
  },
  {
   "cell_type": "code",
   "execution_count": 86,
   "metadata": {},
   "outputs": [],
   "source": [
    "img1 = cv2.imread(\"data/book-1.bmp\")\n",
    "img2 = cv2.imread(\"data/book-2.bmp\")\n",
    "\n",
    "cv2.imshow(\"Image 1\", img1)\n",
    "cv2.imshow(\"Image 2\", img2)\n",
    "cv2.waitKey()\n",
    "cv2.destroyAllWindows()"
   ]
  },
  {
   "cell_type": "code",
   "execution_count": 91,
   "metadata": {},
   "outputs": [
    {
     "name": "stdout",
     "output_type": "stream",
     "text": [
      "[[-7.45798810e-01 -1.80390087e+00  1.02218253e+03]\n",
      " [ 1.48687099e+00 -5.66130795e-01  1.34938208e+02]]\n"
     ]
    }
   ],
   "source": [
    "img = cv2.imread(\"data/book-1.bmp\")\n",
    "(h, w) = img.shape[:2]\n",
    "\n",
    "src_points = np.float32([[108, 522], [17, 283], [495, 362]])\n",
    "dst_points = np.float32([[0, 0], [w-1, 0], [0, h-1]])\n",
    "\n",
    "M = cv2.getAffineTransform(src_points, dst_points)\n",
    "print(M)\n",
    "\n",
    "transformed_image = cv2.warpAffine(img, M, (w, h))\n",
    "\n",
    "for p in src_points:\n",
    "    cv2.circle(img, np.int32(p), 5, (0, 0, 244), -1)\n",
    "\n",
    "cv2.imshow(\"Original Image\", img)\n",
    "cv2.imshow(\"Transformed Image\", transformed_image)\n",
    "cv2.waitKey()\n",
    "cv2.destroyAllWindows()"
   ]
  },
  {
   "cell_type": "code",
   "execution_count": 92,
   "metadata": {},
   "outputs": [
    {
     "name": "stdout",
     "output_type": "stream",
     "text": [
      "[[ 1.82878021e+00  2.56997626e-01 -2.32895719e+02]\n",
      " [ 4.97111380e-03  1.35711407e+00 -1.29492543e+02]]\n"
     ]
    }
   ],
   "source": [
    "img = cv2.imread(\"data/book-2.bmp\")\n",
    "(h, w) = img.shape[:2]\n",
    "\n",
    "src_points = np.float32([[114, 95], [387, 94], [45, 586]])\n",
    "dst_points = np.float32([[0, 0], [w-1, 0], [0, h-1]])\n",
    "\n",
    "M = cv2.getAffineTransform(src_points, dst_points)\n",
    "print(M)\n",
    "\n",
    "transformed_image = cv2.warpAffine(img, M, (w, h))\n",
    "\n",
    "for p in src_points:\n",
    "    cv2.circle(img, np.int32(p), 5, (0, 0, 244), -1)\n",
    "\n",
    "cv2.imshow(\"Original Image\", img)\n",
    "cv2.imshow(\"Transformed Image\", transformed_image)\n",
    "cv2.waitKey()\n",
    "cv2.destroyAllWindows()"
   ]
  },
  {
   "cell_type": "markdown",
   "metadata": {
    "jp-MarkdownHeadingCollapsed": true
   },
   "source": [
    "## <span style=\"font-size: 0.9em;\">🟥</span> **Section 4: Perspective Transform**"
   ]
  },
  {
   "cell_type": "markdown",
   "metadata": {},
   "source": [
    "<div style=\"font-size: 20px;\">\n",
    "\n",
    "<ol>\n",
    "    <li><strong><code>cv2.getPerspectiveTransform()</code></strong></li>\n",
    "    <li><strong><code>cv2.warpPerspective()</code></strong></li>\n",
    "</ol>\n",
    "\n",
    "</div>"
   ]
  },
  {
   "cell_type": "code",
   "execution_count": 101,
   "metadata": {},
   "outputs": [
    {
     "data": {
      "text/plain": [
       "(255, 418, 0.6100478468899522)"
      ]
     },
     "execution_count": 101,
     "metadata": {},
     "output_type": "execute_result"
    }
   ],
   "source": [
    "src_points = np.float32([[108, 522], [17, 283], [495, 362]])\n",
    "\n",
    "book_width = int(np.linalg.norm(src_points[0]-src_points[1], ord=2))\n",
    "book_height = int(np.linalg.norm(src_points[0]-src_points[2], ord=2))\n",
    "book_width, book_height, book_width/book_height"
   ]
  },
  {
   "cell_type": "code",
   "execution_count": 103,
   "metadata": {},
   "outputs": [
    {
     "name": "stdout",
     "output_type": "stream",
     "text": [
      "[[-3.92212172e-01 -9.48663190e-01  5.37561100e+02]\n",
      " [ 9.60299116e-01 -3.65636902e-01  8.71501583e+01]\n",
      " [-2.30474636e-05  1.18546076e-04  1.00000000e+00]]\n"
     ]
    }
   ],
   "source": [
    "img = cv2.imread(\"data/book-1.bmp\")\n",
    "(h, w) = img.shape[:2]\n",
    "\n",
    "src_points = np.float32([[108, 522], [17, 283], [495, 362], [397, 133]])\n",
    "dst_points = np.float32([[0, 0], [book_width-1, 0], [0, book_height-1], [book_width-1, book_height-1]])\n",
    "\n",
    "M = cv2.getPerspectiveTransform(src_points, dst_points)\n",
    "print(M)\n",
    "\n",
    "transformed_image = cv2.warpPerspective(img, M, (book_width, book_height))\n",
    "\n",
    "cv2.imshow(\"Original Image\", img)\n",
    "cv2.imshow(\"Transformed Image\", transformed_image)\n",
    "cv2.waitKey()\n",
    "cv2.destroyAllWindows()"
   ]
  },
  {
   "cell_type": "code",
   "execution_count": 105,
   "metadata": {
    "scrolled": true
   },
   "outputs": [
    {
     "name": "stdout",
     "output_type": "stream",
     "text": [
      "[[ 1.03537221e+00  1.45500372e-01 -1.31854968e+02]\n",
      " [ 5.11834757e-03  1.39730889e+00 -1.33327836e+02]\n",
      " [ 2.33725053e-05  1.09790766e-03  1.00000000e+00]]\n"
     ]
    }
   ],
   "source": [
    "img = cv2.imread(\"data/book-2.bmp\")\n",
    "(h, w) = img.shape[:2]\n",
    "\n",
    "src_points = np.float32([[114, 95], [387, 94], [45, 586], [451, 588]])\n",
    "dst_points = np.float32([[0, 0], [book_width-1, 0], [0, book_height-1], [book_width-1, book_height-1]])\n",
    "\n",
    "M = cv2.getPerspectiveTransform(src_points, dst_points)\n",
    "print(M)\n",
    "\n",
    "transformed_image = cv2.warpPerspective(img, M, (book_width, book_height))\n",
    "\n",
    "cv2.imshow(\"Original Image\", img)\n",
    "cv2.imshow(\"Transformed Image\", transformed_image)\n",
    "cv2.waitKey()\n",
    "cv2.destroyAllWindows()"
   ]
  },
  {
   "cell_type": "markdown",
   "metadata": {
    "jp-MarkdownHeadingCollapsed": true
   },
   "source": [
    "## <span style=\"font-size: 0.9em;\">🟥</span> **Section 5: Mini Projects**"
   ]
  },
  {
   "cell_type": "markdown",
   "metadata": {
    "id": "8d25DyDxov7H",
    "jp-MarkdownHeadingCollapsed": true,
    "tags": []
   },
   "source": [
    "### <span style=\"font-size: 0.9em;\">🟧</span> **Tennis Court**"
   ]
  },
  {
   "cell_type": "markdown",
   "metadata": {},
   "source": [
    "https://www.youtube.com/watch?v=A53ZlGJM0Ww"
   ]
  },
  {
   "cell_type": "code",
   "execution_count": 124,
   "metadata": {},
   "outputs": [
    {
     "name": "stdout",
     "output_type": "stream",
     "text": [
      "Selected points:\n",
      " [[ 435.  148.]\n",
      " [ 845.  147.]\n",
      " [ 221.  555.]\n",
      " [1067.  556.]]\n"
     ]
    }
   ],
   "source": [
    "# Number of points to collect\n",
    "n = 4\n",
    "src_points = []\n",
    "\n",
    "# Mouse callback function to get points\n",
    "def get_points(event, x, y, flags, param):\n",
    "    if event == cv2.EVENT_LBUTTONDOWN:\n",
    "        if len(src_points) < n:\n",
    "            src_points.append((x, y))\n",
    "            cv2.circle(image, (x, y), 5, (0, 255, 0), -1)\n",
    "            cv2.imshow('Image', image)\n",
    "        if len(src_points) == n:\n",
    "            cv2.destroyAllWindows()\n",
    "\n",
    "# Load the image\n",
    "cap = cv2.VideoCapture('data/tennis.mp4')    \n",
    "ret, image = cap.read()\n",
    "cap.release()\n",
    "\n",
    "# Clone image for displaying points\n",
    "image_clone = image.copy()\n",
    "\n",
    "# Set up window and mouse callback\n",
    "cv2.imshow('Image', image_clone)\n",
    "cv2.setMouseCallback('Image', get_points)\n",
    "\n",
    "# Wait until the user has selected the points\n",
    "cv2.waitKey()\n",
    "\n",
    "# Convert the list of points to a numpy array\n",
    "src_points = np.array(src_points, dtype=np.float32)\n",
    "\n",
    "# Print the selected points\n",
    "print(\"Selected points:\\n\", src_points)"
   ]
  },
  {
   "cell_type": "code",
   "execution_count": 125,
   "metadata": {
    "scrolled": true
   },
   "outputs": [
    {
     "name": "stdout",
     "output_type": "stream",
     "text": [
      "[[ 1.28822184e+00  6.77345144e-01 -6.60623581e+02]\n",
      " [ 1.95243707e-02  8.00499199e+00 -1.19323192e+03]\n",
      " [ 2.51411156e-05  4.30163767e-03  1.00000000e+00]]\n"
     ]
    }
   ],
   "source": [
    "court_width, court_height = 4*80, 4*240\n",
    "\n",
    "dst_points = np.float32([[0, 0], [court_width-1, 0], [0, court_height-1], [court_width-1, court_height-1]])\n",
    "\n",
    "M = cv2.getPerspectiveTransform(src_points, dst_points)\n",
    "print(M)\n",
    "\n",
    "transformed_image = cv2.warpPerspective(image, M, (court_width, court_height))\n",
    "\n",
    "cv2.imshow(\"Original Image\", image)\n",
    "cv2.imshow(\"Transformed Image\", transformed_image)\n",
    "cv2.waitKey()\n",
    "cv2.destroyAllWindows()"
   ]
  },
  {
   "cell_type": "markdown",
   "metadata": {
    "id": "8d25DyDxov7H",
    "jp-MarkdownHeadingCollapsed": true,
    "tags": []
   },
   "source": [
    "### <span style=\"font-size: 0.9em;\">🟧</span> **Project the logo on the wall**"
   ]
  },
  {
   "cell_type": "code",
   "execution_count": null,
   "metadata": {},
   "outputs": [],
   "source": []
  }
 ],
 "metadata": {
  "colab": {
   "collapsed_sections": [],
   "name": "Introduction to PyTorch [howsam.org].ipynb",
   "provenance": []
  },
  "kernelspec": {
   "display_name": "Python 3 (ipykernel)",
   "language": "python",
   "name": "python3"
  },
  "language_info": {
   "codemirror_mode": {
    "name": "ipython",
    "version": 3
   },
   "file_extension": ".py",
   "mimetype": "text/x-python",
   "name": "python",
   "nbconvert_exporter": "python",
   "pygments_lexer": "ipython3",
   "version": "3.11.9"
  }
 },
 "nbformat": 4,
 "nbformat_minor": 4
}
