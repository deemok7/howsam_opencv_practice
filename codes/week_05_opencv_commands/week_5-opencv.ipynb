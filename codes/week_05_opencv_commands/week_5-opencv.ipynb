{
 "cells": [
  {
   "cell_type": "markdown",
   "metadata": {},
   "source": [
    "# <font color='#FFE15D'>**Week 5: OpenCV Commands**</font> 💻"
   ]
  },
  {
   "cell_type": "markdown",
   "metadata": {
    "jp-MarkdownHeadingCollapsed": true,
    "tags": []
   },
   "source": [
    "## <span style=\"font-size: 0.9em;\">🟥</span> **Section 0: Introduction**"
   ]
  },
  {
   "cell_type": "markdown",
   "metadata": {
    "colab_type": "text",
    "id": "QAw_hhj9CsUA",
    "jp-MarkdownHeadingCollapsed": true,
    "tags": []
   },
   "source": [
    "## <span style=\"font-size: 0.9em;\">🟥</span> **Import**\n"
   ]
  },
  {
   "cell_type": "code",
   "execution_count": null,
   "metadata": {},
   "outputs": [],
   "source": [
    "import cv2\n",
    "import numpy as np\n",
    "import matplotlib.pyplot as plt\n",
    "import os"
   ]
  },
  {
   "cell_type": "code",
   "execution_count": null,
   "metadata": {},
   "outputs": [],
   "source": [
    "cv2.__version__"
   ]
  },
  {
   "cell_type": "markdown",
   "metadata": {
    "jp-MarkdownHeadingCollapsed": true
   },
   "source": [
    "## <span style=\"font-size: 0.9em;\">🟥</span> **Section 1: Drawing Shapes**"
   ]
  },
  {
   "cell_type": "markdown",
   "metadata": {
    "id": "8d25DyDxov7H",
    "jp-MarkdownHeadingCollapsed": true,
    "tags": []
   },
   "source": [
    "### <span style=\"font-size: 0.9em;\">🟧</span> **`cv2.line()`**"
   ]
  },
  {
   "cell_type": "code",
   "execution_count": null,
   "metadata": {},
   "outputs": [],
   "source": [
    "cv2.line?"
   ]
  },
  {
   "cell_type": "code",
   "execution_count": null,
   "metadata": {},
   "outputs": [],
   "source": [
    "img = np.zeros((1200, 1200, 3), dtype=np.uint8)\n",
    "r, c, _ = img.shape\n",
    "\n",
    "pt1 = (0, 0)\n",
    "pt2 = (c-1, 99)\n",
    "color = (255, 0, 0)\n",
    "thickness = 4\n",
    "cv2.line(img, pt1, pt2, color, thickness)\n",
    "\n",
    "pt1 = (99, 0)\n",
    "pt2 = (c-1, 199)\n",
    "color = (0, 255, 0)\n",
    "thickness = 10\n",
    "cv2.line(img, pt1, pt2, color, thickness)\n",
    "\n",
    "\n",
    "plt.imshow(img)\n",
    "plt.axis('off');"
   ]
  },
  {
   "cell_type": "code",
   "execution_count": null,
   "metadata": {},
   "outputs": [],
   "source": [
    "cv2.imshow(\"Line\", img)\n",
    "cv2.waitKey()\n",
    "cv2.destroyAllWindows()"
   ]
  },
  {
   "cell_type": "code",
   "execution_count": null,
   "metadata": {},
   "outputs": [],
   "source": [
    "img.min(), img.max()"
   ]
  },
  {
   "cell_type": "code",
   "execution_count": null,
   "metadata": {},
   "outputs": [],
   "source": [
    "os.makedirs(\"results\", exist_ok=True)\n",
    "cv2.imwrite(\"results/line-output.png\", img)"
   ]
  },
  {
   "cell_type": "markdown",
   "metadata": {},
   "source": [
    "#### Shift param"
   ]
  },
  {
   "cell_type": "code",
   "execution_count": null,
   "metadata": {},
   "outputs": [],
   "source": [
    "img = np.zeros((1400, 1400, 3), dtype=np.uint8)\n",
    "r, c, _ = img.shape\n",
    "\n",
    "CONST = 900\n",
    "\n",
    "\n",
    "shift = 0\n",
    "p1x = 100\n",
    "p1y = 100\n",
    "pt1 = (p1x, p1y)\n",
    "p2x = p1x + CONST\n",
    "p2y = p1y + CONST\n",
    "pt2 = (p2x, p2y)\n",
    "color = (0, 255, 255)\n",
    "thickness = 10\n",
    "cv2.line(img, pt1, pt2, color, thickness, shift=shift)\n",
    "\n",
    "\n",
    "shift = 0\n",
    "p1x = 200\n",
    "p1y = 100\n",
    "pt1 = (p1x, p1y)\n",
    "p2x = p1x + CONST\n",
    "p2y = p1y + CONST\n",
    "pt2 = (p2x, p2y)\n",
    "color = (0, 0, 255)\n",
    "thickness = 10\n",
    "cv2.line(img, pt1, pt2, color, thickness, shift=shift)\n",
    "\n",
    "shift = 1\n",
    "p1x = 100\n",
    "p1y = 200\n",
    "pt1 = (p1x, p1y)\n",
    "p2x = p1x + CONST\n",
    "p2y = p1y + CONST\n",
    "pt2 = (p2x, p2y)\n",
    "color = (255, 0, 255)\n",
    "thickness = 10\n",
    "cv2.line(img, pt1, pt2, color, thickness, shift=shift)\n",
    "\n",
    "shift = 1\n",
    "p1x = 100\n",
    "p1y = 300\n",
    "pt1 = (p1x * 2**shift, p1y * 2**shift)\n",
    "p2x = p1x + CONST\n",
    "p2y = p1y + CONST\n",
    "pt2 = (p2x * 2**shift, p2y * 2**shift)\n",
    "color = (255, 0, 255)\n",
    "thickness = 10\n",
    "cv2.line(img, pt1, pt2, color, thickness, shift=shift)\n",
    "\n",
    "plt.imshow(img)\n",
    "plt.axis(\"off\")"
   ]
  },
  {
   "cell_type": "code",
   "execution_count": null,
   "metadata": {},
   "outputs": [],
   "source": [
    "os.makedirs(\"results\", exist_ok=True)\n",
    "cv2.imwrite(\"results/line_shifted-output.png\", img)"
   ]
  },
  {
   "cell_type": "markdown",
   "metadata": {
    "id": "89flvZw6p4HC",
    "jp-MarkdownHeadingCollapsed": true,
    "tags": []
   },
   "source": [
    "#### <span style=\"font-size: 0.9em;\">🟨</span> **Line Types**"
   ]
  },
  {
   "cell_type": "code",
   "execution_count": null,
   "metadata": {},
   "outputs": [],
   "source": [
    "def show_with_matplotlib(img, title):\n",
    "    \"\"\"Shows an image using matplotlib capabilities\"\"\"\n",
    "\n",
    "    # Convert BGR image to RGB:\n",
    "    img_RGB = img[:, :, ::-1]\n",
    "\n",
    "    # Show the image using matplotlib:\n",
    "    plt.imshow(img_RGB)\n",
    "    plt.title(title)\n",
    "    plt.show()\n",
    "\n",
    "\n",
    "# Dictionary containing some colors:\n",
    "colors = {'blue': (255, 0, 0), 'green': (0, 255, 0), 'red': (0, 0, 255), 'yellow': (0, 255, 255),\n",
    "          'magenta': (255, 0, 255), 'cyan': (255, 255, 0), 'white': (255, 255, 255), 'black': (0, 0, 0),\n",
    "          'gray': (125, 125, 125), 'rand': np.random.randint(0, high=256, size=(3,)).tolist(),\n",
    "          'dark_gray': (50, 50, 50), 'light_gray': (220, 220, 220)}\n",
    "\n",
    "# We create the canvas to draw: 20 x 20 pixels, 3 channels, uint8 (8-bit unsigned integers)\n",
    "# We set the background to black using np.zeros():\n",
    "image = np.zeros((20, 20, 3), dtype=\"uint8\")\n",
    "\n",
    "# If you want another background color you can do the following:\n",
    "image[:] = colors['light_gray']\n",
    "\n",
    "# We are going to see how cv2.line() works modifying the parameter lineType:\n",
    "cv2.line(image, (5, 0), (20, 15), colors['yellow'], 1, cv2.LINE_4)\n",
    "cv2.line(image, (0, 0), (20, 20), colors['red'], 1, cv2.LINE_AA)\n",
    "cv2.line(image, (0, 5), (15, 20), colors['green'], 1, cv2.LINE_8)\n",
    "\n",
    "# Show image:\n",
    "show_with_matplotlib(image, 'LINE_4    LINE_AA    LINE_8')"
   ]
  },
  {
   "cell_type": "markdown",
   "metadata": {
    "colab_type": "text",
    "id": "QAw_hhj9CsUA",
    "jp-MarkdownHeadingCollapsed": true,
    "tags": []
   },
   "source": [
    "#### <span style=\"font-size: 0.9em;\">🟪</span> **Exercise**"
   ]
  },
  {
   "attachments": {
    "c96ff280-2664-48e7-a7e0-daca563b12f8.png": {
     "image/png": "[encoded data removed]"
    }
   },
   "cell_type": "markdown",
   "metadata": {},
   "source": [
    "![image.png](attachment:c96ff280-2664-48e7-a7e0-daca563b12f8.png)"
   ]
  },
  {
   "cell_type": "code",
   "execution_count": null,
   "metadata": {},
   "outputs": [],
   "source": []
  },
  {
   "attachments": {
    "f3ccff36-396f-432a-ba04-64e2a3ec94e5.png": {
     "image/png": "[encoded data removed]"
    }
   },
   "cell_type": "markdown",
   "metadata": {},
   "source": [
    "![image.png](attachment:f3ccff36-396f-432a-ba04-64e2a3ec94e5.png)"
   ]
  },
  {
   "cell_type": "markdown",
   "metadata": {
    "id": "8d25DyDxov7H",
    "jp-MarkdownHeadingCollapsed": true,
    "tags": []
   },
   "source": [
    "### <span style=\"font-size: 0.9em;\">🟧</span> **`cv2.rectangle()`**"
   ]
  },
  {
   "cell_type": "code",
   "execution_count": null,
   "metadata": {},
   "outputs": [],
   "source": [
    "cv2.rectangle?"
   ]
  },
  {
   "cell_type": "code",
   "execution_count": null,
   "metadata": {},
   "outputs": [],
   "source": [
    "img = cv2.imread('data/cute-cats.bmp')\n",
    "img = cv2.normalize(img, None, alpha=0, beta=1, norm_type=cv2.NORM_MINMAX, dtype=cv2.CV_32FC3)\n",
    "rows, cols, c = img.shape\n",
    "\n",
    "pt1 = (100, 280)\n",
    "pt2 = (370, rows-1)\n",
    "color = (128/255, 64/255, 32/255) \n",
    "mask = np.zeros_like(img)\n",
    "cv2.rectangle(mask, pt1, pt2, color, thickness=-1)\n",
    "\n",
    "mask2 = np.zeros_like(img)\n",
    "cv2.rectangle(mask2, pt1, pt2, color, thickness=3)\n",
    "\n",
    "# img = img + 0.5 * mask\n",
    "# alpha = 0.5\n",
    "# img = cv2.addWeighted(img, alpha, mask, 1-alpha, gamma=0)\n",
    "img = cv2.addWeighted(img, 1, mask, 0.5, gamma=0)\n",
    "img = cv2.addWeighted(img, 1, mask2, 0.9, gamma=0)\n",
    "\n",
    "cv2.imshow(\"Cute Cats\", img)\n",
    "cv2.waitKey()\n",
    "cv2.destroyAllWindows()"
   ]
  },
  {
   "cell_type": "markdown",
   "metadata": {
    "colab_type": "text",
    "id": "QAw_hhj9CsUA",
    "jp-MarkdownHeadingCollapsed": true,
    "tags": []
   },
   "source": [
    "#### <span style=\"font-size: 0.9em;\">🟪</span> **Exercise**"
   ]
  },
  {
   "attachments": {
    "b36ee1b1-5cb6-4946-9b92-f9f0e7c96687.png": {
     "image/png": "[encoded data removed]"
    }
   },
   "cell_type": "markdown",
   "metadata": {},
   "source": [
    "![image.png](attachment:b36ee1b1-5cb6-4946-9b92-f9f0e7c96687.png)"
   ]
  },
  {
   "cell_type": "code",
   "execution_count": null,
   "metadata": {},
   "outputs": [],
   "source": []
  },
  {
   "cell_type": "markdown",
   "metadata": {
    "id": "8d25DyDxov7H",
    "jp-MarkdownHeadingCollapsed": true,
    "tags": []
   },
   "source": [
    "### <span style=\"font-size: 0.9em;\">🟧</span> **`cv2.circle()`**"
   ]
  },
  {
   "cell_type": "code",
   "execution_count": null,
   "metadata": {},
   "outputs": [],
   "source": [
    "cv2.circle?"
   ]
  },
  {
   "cell_type": "code",
   "execution_count": null,
   "metadata": {},
   "outputs": [],
   "source": [
    "img = np.zeros((1200, 1200, 3), dtype=np.uint8)\n",
    "r, c, _ = img.shape\n",
    "\n",
    "center = (600, 600)\n",
    "radius = 250\n",
    "color = (0, 0, 255)\n",
    "thickness = 3\n",
    "cv2.circle(img, center, radius, color, thickness)\n",
    "cv2.circle(img, center, 100, color, thickness=-1)\n",
    "cv2.circle(img, (0, 0), 100, color, thickness=-1)\n",
    "\n",
    "plt.imshow(img)\n",
    "plt.axis('off');"
   ]
  },
  {
   "cell_type": "markdown",
   "metadata": {
    "colab_type": "text",
    "id": "QAw_hhj9CsUA",
    "jp-MarkdownHeadingCollapsed": true,
    "tags": []
   },
   "source": [
    "#### <span style=\"font-size: 0.9em;\">🟪</span> **Exercise**"
   ]
  },
  {
   "attachments": {
    "f0c5bd8d-b72c-408d-af35-2b8002acf16c.png": {
     "image/png": "[encoded data removed]"
    }
   },
   "cell_type": "markdown",
   "metadata": {},
   "source": [
    "![image.png](attachment:f0c5bd8d-b72c-408d-af35-2b8002acf16c.png)"
   ]
  },
  {
   "cell_type": "code",
   "execution_count": null,
   "metadata": {},
   "outputs": [],
   "source": []
  },
  {
   "cell_type": "markdown",
   "metadata": {
    "id": "8d25DyDxov7H",
    "jp-MarkdownHeadingCollapsed": true,
    "tags": []
   },
   "source": [
    "### <span style=\"font-size: 0.9em;\">🟧</span> **`cv2.ellipse()`**"
   ]
  },
  {
   "cell_type": "code",
   "execution_count": null,
   "metadata": {},
   "outputs": [],
   "source": [
    "cv2.ellipse?"
   ]
  },
  {
   "cell_type": "code",
   "execution_count": null,
   "metadata": {},
   "outputs": [],
   "source": [
    "img = np.zeros((1200, 1200, 3), dtype=np.uint8)\n",
    "\n",
    "axes = (200, 400)\n",
    "angle = 0\n",
    "startAngle = 0\n",
    "endAngle = 360\n",
    "color = (255, 0, 0)\n",
    "cv2.ellipse(img, (600, 600), axes, angle, startAngle, endAngle, color, thickness=3)\n",
    "# cv2.ellipse(img, (600, 600), axes, 30, startAngle, endAngle, color, thickness=3)\n",
    "# cv2.ellipse(img, (600, 600), axes, 60, startAngle, endAngle, (0, 0, 255), thickness=3)\n",
    "# cv2.ellipse(img, (600, 600), axes, 90, startAngle, endAngle, (0, 255, 0), thickness=3)\n",
    "\n",
    "cv2.ellipse(img, (600, 600), axes, 0, 0, -90, (255, 255, 0), thickness=3)\n",
    "\n",
    "plt.imshow(img)\n",
    "plt.axis('off')"
   ]
  },
  {
   "cell_type": "markdown",
   "metadata": {
    "colab_type": "text",
    "id": "QAw_hhj9CsUA",
    "jp-MarkdownHeadingCollapsed": true,
    "tags": []
   },
   "source": [
    "#### <span style=\"font-size: 0.9em;\">🟪</span> **Exercise**"
   ]
  },
  {
   "cell_type": "code",
   "execution_count": null,
   "metadata": {},
   "outputs": [],
   "source": []
  },
  {
   "cell_type": "markdown",
   "metadata": {
    "id": "8d25DyDxov7H",
    "jp-MarkdownHeadingCollapsed": true,
    "tags": []
   },
   "source": [
    "### <span style=\"font-size: 0.9em;\">🟧</span> **`cv2.polylines()`**"
   ]
  },
  {
   "cell_type": "code",
   "execution_count": null,
   "metadata": {},
   "outputs": [],
   "source": [
    "cv2.polylines?"
   ]
  },
  {
   "cell_type": "code",
   "execution_count": null,
   "metadata": {},
   "outputs": [],
   "source": [
    "img = np.zeros((600, 600, 3), dtype=np.uint8)\n",
    "\n",
    "pts1 = np.array([[100, 100], [200, 100], [200, 200], [100, 200]], np.int32)\n",
    "\n",
    "pts2 = np.array([[300, 100], [400, 200], [300, 200]], np.int32)\n",
    "\n",
    "color = (0, 0, 255)\n",
    "\n",
    "cv2.polylines(img, [pts1, pts2], isClosed=True, color=color, thickness=3)\n",
    "\n",
    "cv2.imshow(\"Polylines\", img)\n",
    "cv2.waitKey(0)\n",
    "cv2.destroyAllWindows()"
   ]
  },
  {
   "cell_type": "markdown",
   "metadata": {
    "id": "8d25DyDxov7H",
    "jp-MarkdownHeadingCollapsed": true,
    "tags": []
   },
   "source": [
    "### <span style=\"font-size: 0.9em;\">🟧</span> **`cv2.fillPoly()`**"
   ]
  },
  {
   "cell_type": "code",
   "execution_count": null,
   "metadata": {},
   "outputs": [],
   "source": [
    "cv2.fillPoly?"
   ]
  },
  {
   "cell_type": "code",
   "execution_count": null,
   "metadata": {},
   "outputs": [],
   "source": [
    "img = np.zeros((600, 600, 3), dtype=np.uint8)\n",
    "\n",
    "pts1 = np.array([[100, 100], [200, 100], [200, 200], [100, 200]], np.int32)\n",
    "\n",
    "pts2 = np.array([[300, 100], [400, 200], [300, 200]], np.int32)\n",
    "\n",
    "cv2.fillPoly(img, [pts1, pts2], color)\n",
    "\n",
    "plt.imshow(img)\n",
    "plt.axis('off');"
   ]
  },
  {
   "cell_type": "markdown",
   "metadata": {
    "id": "8d25DyDxov7H",
    "jp-MarkdownHeadingCollapsed": true,
    "tags": []
   },
   "source": [
    "### <span style=\"font-size: 0.9em;\">🟧</span> **`cv2.fillConvexPoly()`**"
   ]
  },
  {
   "cell_type": "code",
   "execution_count": null,
   "metadata": {},
   "outputs": [],
   "source": [
    "cv2.fillConvexPoly?"
   ]
  },
  {
   "cell_type": "code",
   "execution_count": null,
   "metadata": {},
   "outputs": [],
   "source": [
    "img = np.zeros((600, 600, 3), dtype=np.uint8)\n",
    "\n",
    "pts1 = np.array([[100, 100], [200, 100], [200, 200], [100, 200]], np.int32)\n",
    "\n",
    "pts2 = np.array([[300, 100], [400, 200], [300, 200]], np.int32)\n",
    "\n",
    "# cv2.fillConvexPoly(img, [pts1, pts2], color)\n",
    "cv2.fillConvexPoly(img, pts1, color)\n",
    "\n",
    "plt.imshow(img)\n",
    "plt.axis('off');"
   ]
  },
  {
   "cell_type": "markdown",
   "metadata": {
    "id": "8d25DyDxov7H",
    "jp-MarkdownHeadingCollapsed": true,
    "tags": []
   },
   "source": [
    "### <span style=\"font-size: 0.9em;\">🟧</span> **`cv2.arrowedLine()`**"
   ]
  },
  {
   "cell_type": "code",
   "execution_count": null,
   "metadata": {},
   "outputs": [],
   "source": [
    "cv2.arrowedLine?"
   ]
  },
  {
   "cell_type": "code",
   "execution_count": null,
   "metadata": {},
   "outputs": [],
   "source": [
    "img = np.zeros((400, 400), dtype=np.uint8)\n",
    "\n",
    "pt1 = (100, 100)\n",
    "pt2 = (300, 300)\n",
    "\n",
    "color = (255, 0, 0)\n",
    "\n",
    "cv2.arrowedLine(img, pt1, pt2, color, thickness=3, tipLength=0.6)\n",
    "\n",
    "cv2.imshow(\"Arrowed Line\", img)\n",
    "cv2.waitKey(0)\n",
    "cv2.destroyAllWindows()"
   ]
  },
  {
   "cell_type": "markdown",
   "metadata": {
    "id": "8d25DyDxov7H",
    "jp-MarkdownHeadingCollapsed": true,
    "tags": []
   },
   "source": [
    "### <span style=\"font-size: 0.9em;\">🟧</span> **`cv2.clipLine()`**"
   ]
  },
  {
   "cell_type": "code",
   "execution_count": null,
   "metadata": {},
   "outputs": [],
   "source": [
    "cv2.clipLine?"
   ]
  },
  {
   "cell_type": "code",
   "execution_count": null,
   "metadata": {},
   "outputs": [],
   "source": [
    "img = np.zeros((400, 400, 3), dtype=np.uint8)\n",
    "\n",
    "cv2.line(img, (0, 0), (300, 300), (255, 0, 0), 3)\n",
    "cv2.rectangle(img, (100, 100), (300, 300), (0, 255, 0), 3)\n",
    "\n",
    "retval, pt1, pt2 = cv2.clipLine((100, 100, 300, 300), (0, 0), (300, 300))\n",
    "if retval:\n",
    "    cv2.line(img, pt1, pt2, (0, 0, 255), 3)\n",
    "    \n",
    "cv2.imshow(\"Arrowed Line\", img)\n",
    "cv2.waitKey(0)\n",
    "cv2.destroyAllWindows()"
   ]
  },
  {
   "cell_type": "markdown",
   "metadata": {
    "id": "8d25DyDxov7H",
    "jp-MarkdownHeadingCollapsed": true,
    "tags": []
   },
   "source": [
    "### <span style=\"font-size: 0.9em;\">🟧</span> **`cv2.drawMarker()`**"
   ]
  },
  {
   "cell_type": "code",
   "execution_count": null,
   "metadata": {},
   "outputs": [],
   "source": [
    "cv2.drawMarker?"
   ]
  },
  {
   "cell_type": "code",
   "execution_count": null,
   "metadata": {},
   "outputs": [],
   "source": [
    "img = np.zeros((300, 300, 3), dtype=np.uint8)\n",
    "\n",
    "cv2.drawMarker(img, (100, 150), (255, 0, 0), markerType=cv2.MARKER_CROSS, markerSize=20, thickness=2)\n",
    "cv2.drawMarker(img, (150, 150), (0, 255, 0), markerType=cv2.MARKER_STAR, markerSize=30, thickness=2)\n",
    "cv2.drawMarker(img, (200, 150), (0, 0, 255), markerType=cv2.MARKER_DIAMOND, markerSize=40, thickness=2)\n",
    "\n",
    "cv2.imshow(\"Markers\", img)\n",
    "cv2.waitKey(0)\n",
    "cv2.destroyAllWindows()"
   ]
  },
  {
   "cell_type": "markdown",
   "metadata": {
    "id": "8d25DyDxov7H",
    "jp-MarkdownHeadingCollapsed": true,
    "tags": []
   },
   "source": [
    "### <span style=\"font-size: 0.9em;\">🟪</span> **Exercise**"
   ]
  },
  {
   "attachments": {
    "aa619c5f-b2e0-45c2-b48e-dafc90193c9f.png": {
     "image/png": "[encoded data removed]"
    }
   },
   "cell_type": "markdown",
   "metadata": {},
   "source": [
    "![image.png](attachment:aa619c5f-b2e0-45c2-b48e-dafc90193c9f.png)"
   ]
  },
  {
   "cell_type": "code",
   "execution_count": null,
   "metadata": {},
   "outputs": [],
   "source": []
  },
  {
   "cell_type": "markdown",
   "metadata": {
    "jp-MarkdownHeadingCollapsed": true
   },
   "source": [
    "## <span style=\"font-size: 0.9em;\">🟥</span> **Section 2: Insert Text**"
   ]
  },
  {
   "cell_type": "markdown",
   "metadata": {
    "id": "8d25DyDxov7H",
    "jp-MarkdownHeadingCollapsed": true,
    "tags": []
   },
   "source": [
    "### <span style=\"font-size: 0.9em;\">🟧</span> **`cv2.putText()`**"
   ]
  },
  {
   "cell_type": "code",
   "execution_count": null,
   "metadata": {},
   "outputs": [],
   "source": [
    "cv2.putText?"
   ]
  },
  {
   "cell_type": "code",
   "execution_count": null,
   "metadata": {},
   "outputs": [],
   "source": [
    "img = cv2.imread('data/cute-cats.bmp')\n",
    "img = cv2.normalize(img, None, alpha=0, beta=1, norm_type=cv2.NORM_MINMAX, dtype=cv2.CV_32FC3)\n",
    "rows, cols, c = img.shape\n",
    "\n",
    "# Filled rectangle\n",
    "pt1 = (100, 280)\n",
    "pt2 = (370, rows-1)\n",
    "color = (128/255, 64/255, 32/255) \n",
    "mask = np.zeros_like(img)\n",
    "cv2.rectangle(mask, pt1, pt2, color, thickness=-1)\n",
    "img = cv2.addWeighted(img, 1, mask, 0.5, gamma=0)\n",
    "\n",
    "# Outline\n",
    "outline_color = (182/255, 105/255, 116/255)\n",
    "cv2.rectangle(img, pt1, pt2, outline_color, thickness=3)\n",
    "\n",
    "# Text\n",
    "text = \"Cute Cat\"\n",
    "cv2.putText(img, text, (100, 275), fontFace=cv2.FONT_HERSHEY_DUPLEX, fontScale=1, color=outline_color, thickness=2, lineType=cv2.LINE_AA)\n",
    "\n",
    "cv2.imshow(\"Cute Cats\", img)\n",
    "cv2.waitKey()\n",
    "cv2.destroyAllWindows()"
   ]
  },
  {
   "cell_type": "markdown",
   "metadata": {
    "id": "8d25DyDxov7H",
    "jp-MarkdownHeadingCollapsed": true,
    "tags": []
   },
   "source": [
    "### <span style=\"font-size: 0.9em;\">🟧</span> **`cv2.getTextSize()`**"
   ]
  },
  {
   "cell_type": "code",
   "execution_count": null,
   "metadata": {
    "collapsed": true,
    "jupyter": {
     "outputs_hidden": true
    }
   },
   "outputs": [],
   "source": [
    "cv2.getTextSize?"
   ]
  },
  {
   "cell_type": "code",
   "execution_count": null,
   "metadata": {},
   "outputs": [],
   "source": [
    "img = cv2.imread('data/cute-cats.bmp')\n",
    "img = cv2.normalize(img, None, alpha=0, beta=1, norm_type=cv2.NORM_MINMAX, dtype=cv2.CV_32FC3)\n",
    "rows, cols, c = img.shape\n",
    "\n",
    "# Filled rectangle\n",
    "pt1 = (100, 280)\n",
    "pt2 = (370, rows-1)\n",
    "color = (128/255, 64/255, 32/255) \n",
    "mask = np.zeros_like(img)\n",
    "cv2.rectangle(mask, pt1, pt2, color, thickness=-1)\n",
    "img = cv2.addWeighted(img, 1, mask, 0.5, gamma=0)\n",
    "\n",
    "# Outline\n",
    "outline_color = (182/255, 105/255, 116/255)\n",
    "cv2.rectangle(img, pt1, pt2, outline_color, thickness=3)\n",
    "\n",
    "# Text\n",
    "text = \"Cute Cat\"\n",
    "pt0 = (100, 275)\n",
    "\n",
    "text_size, baseline = cv2.getTextSize(text, fontFace=cv2.FONT_HERSHEY_DUPLEX, fontScale=1, thickness=2)\n",
    "w, h = text_size\n",
    "m = 5\n",
    "pt1 = (pt0[0]-m, pt0[1]-h-m)\n",
    "pt2 = (pt0[0]+w+m, pt0[1]+m)\n",
    "cv2.rectangle(img, pt1, pt2, outline_color, thickness=-1)\n",
    "\n",
    "cv2.putText(img, text, pt0, fontFace=cv2.FONT_HERSHEY_DUPLEX, fontScale=1, color=(1, 1, 1), thickness=2, lineType=cv2.LINE_AA)\n",
    "\n",
    "cv2.imshow(\"Cute Cats\", img)\n",
    "cv2.waitKey()\n",
    "cv2.destroyAllWindows()"
   ]
  },
  {
   "cell_type": "markdown",
   "metadata": {
    "id": "89flvZw6p4HC",
    "jp-MarkdownHeadingCollapsed": true,
    "tags": []
   },
   "source": [
    "#### <span style=\"font-size: 0.9em;\">🟨</span> **Mastering OpenCV 4 with Python**"
   ]
  },
  {
   "cell_type": "markdown",
   "metadata": {},
   "source": [
    "https://github.com/PacktPublishing/Mastering-OpenCV-4-with-Python/blob/master/Chapter04/01-chapter-content/text_drawing_bounding_box.py"
   ]
  },
  {
   "cell_type": "code",
   "execution_count": null,
   "metadata": {},
   "outputs": [],
   "source": [
    "def show_with_matplotlib(img, title):\n",
    "    \"\"\"Shows an image using matplotlib capabilities\"\"\"\n",
    "\n",
    "    # Convert BGR image to RGB:\n",
    "    img_RGB = img[:, :, ::-1]\n",
    "\n",
    "    # Show the image using matplotlib:\n",
    "    plt.imshow(img_RGB)\n",
    "    plt.title(title)\n",
    "    plt.show()\n",
    "\n",
    "\n",
    "# Dictionary containing some colors:\n",
    "colors = {'blue': (255, 0, 0), 'green': (0, 255, 0), 'red': (0, 0, 255), 'yellow': (0, 255, 255),\n",
    "          'magenta': (255, 0, 255), 'cyan': (255, 255, 0), 'white': (255, 255, 255), 'black': (0, 0, 0),\n",
    "          'gray': (125, 125, 125), 'rand': np.random.randint(0, high=256, size=(3,)).tolist(),\n",
    "          'dark_gray': (50, 50, 50), 'light_gray': (220, 220, 220)}\n",
    "\n",
    "# We create the canvas to draw: 400 x 1200 pixels, 3 channels, uint8 (8-bit unsigned integers)\n",
    "# We set background to black using np.zeros():\n",
    "image = np.zeros((400, 1200, 3), dtype=\"uint8\")\n",
    "\n",
    "# If you want another background color you can do the following:\n",
    "image[:] = colors['light_gray']\n",
    "\n",
    "# Assign parameters to be used in the drawing functions:\n",
    "font = cv2.FONT_HERSHEY_SIMPLEX\n",
    "font_scale = 2.5\n",
    "thickness = 5\n",
    "text = 'abcdefghijklmnopqrstuvwxyz'\n",
    "circle_radius = 10\n",
    "\n",
    "# We get the size of the text:\n",
    "ret, baseline = cv2.getTextSize(text, font, font_scale, thickness)\n",
    "\n",
    "# We get the text width and text height from ret:\n",
    "text_width, text_height = ret\n",
    "\n",
    "# We center the text in the image:\n",
    "text_x = int(round((image.shape[1] - text_width) / 2))\n",
    "text_y = int(round((image.shape[0] + text_height) / 2))\n",
    "\n",
    "# Draw this point for reference:\n",
    "cv2.circle(image, (text_x, text_y), circle_radius, colors['green'], -1)\n",
    "\n",
    "# Draw the rectangle (bounding box of the text):\n",
    "cv2.rectangle(image, (text_x, text_y + baseline), (text_x + text_width - thickness, text_y - text_height),\n",
    "              colors['blue'], thickness)\n",
    "\n",
    "# Draw the circles defining the rectangle:\n",
    "cv2.circle(image, (text_x, text_y + baseline), circle_radius, colors['red'], -1)\n",
    "cv2.circle(image, (text_x + text_width - thickness, text_y - text_height), circle_radius, colors['cyan'], -1)\n",
    "\n",
    "# Draw the baseline line:\n",
    "cv2.line(image, (text_x, text_y + int(round(thickness / 2))), (text_x + text_width - thickness, text_y +\n",
    "                                                               int(round(thickness / 2))), colors['yellow'], thickness)\n",
    "# Write the text centered in the image:\n",
    "cv2.putText(image, text, (text_x, text_y), font, font_scale, colors['magenta'], thickness)\n",
    "\n",
    "# Show image:\n",
    "show_with_matplotlib(image, 'cv2.getTextSize() + cv2.putText()')"
   ]
  },
  {
   "cell_type": "markdown",
   "metadata": {
    "id": "8d25DyDxov7H",
    "jp-MarkdownHeadingCollapsed": true,
    "tags": []
   },
   "source": [
    "### <span style=\"font-size: 0.9em;\">🟧</span> **`cv2.getFontScaleFromHeight()`**"
   ]
  },
  {
   "cell_type": "code",
   "execution_count": null,
   "metadata": {},
   "outputs": [],
   "source": [
    "cv2.getFontScaleFromHeight?"
   ]
  },
  {
   "cell_type": "code",
   "execution_count": null,
   "metadata": {
    "scrolled": true
   },
   "outputs": [],
   "source": [
    "cv2.getFontScaleFromHeight(fontFace=cv2.FONT_HERSHEY_DUPLEX, pixelHeight=10, thickness=2)"
   ]
  },
  {
   "cell_type": "code",
   "execution_count": null,
   "metadata": {},
   "outputs": [],
   "source": [
    "img = cv2.imread('data/cute-cats.bmp')\n",
    "img = cv2.normalize(img, None, alpha=0, beta=1, norm_type=cv2.NORM_MINMAX, dtype=cv2.CV_32FC3)\n",
    "rows, cols, c = img.shape\n",
    "\n",
    "# Filled rectangle\n",
    "pt1 = (100, 280)\n",
    "pt2 = (370, rows-1)\n",
    "color = (128/255, 64/255, 32/255) \n",
    "mask = np.zeros_like(img)\n",
    "cv2.rectangle(mask, pt1, pt2, color, thickness=-1)\n",
    "img = cv2.addWeighted(img, 1, mask, 0.5, gamma=0)\n",
    "\n",
    "# Outline\n",
    "outline_color = (182/255, 105/255, 116/255)\n",
    "cv2.rectangle(img, pt1, pt2, outline_color, thickness=3)\n",
    "\n",
    "# Text\n",
    "text = \"Cute Cat\"\n",
    "pt0 = (100, 275)\n",
    "\n",
    "text_size, baseline = cv2.getTextSize(text, fontFace=cv2.FONT_HERSHEY_DUPLEX, fontScale=0.4047, thickness=2)\n",
    "print(text_size)\n",
    "w, h = text_size\n",
    "m = 5\n",
    "pt1 = (pt0[0]-m, pt0[1]-h-m)\n",
    "pt2 = (pt0[0]+w+m, pt0[1]+m)\n",
    "cv2.rectangle(img, pt1, pt2, outline_color, thickness=-1)\n",
    "\n",
    "cv2.putText(img, text, pt0, fontFace=cv2.FONT_HERSHEY_DUPLEX, fontScale=0.4047, color=(1, 1, 1), thickness=2, lineType=cv2.LINE_AA)\n",
    "\n",
    "cv2.imshow(\"Cute Cats\", img)\n",
    "cv2.waitKey()\n",
    "cv2.destroyAllWindows()"
   ]
  },
  {
   "cell_type": "markdown",
   "metadata": {},
   "source": [
    "## <span style=\"font-size: 0.9em;\">🟥</span> **Section 3: Graphical User Interface (GUI)**"
   ]
  },
  {
   "cell_type": "markdown",
   "metadata": {
    "id": "8d25DyDxov7H",
    "jp-MarkdownHeadingCollapsed": true,
    "tags": []
   },
   "source": [
    "### <span style=\"font-size: 0.9em;\">🟧</span> **Window**"
   ]
  },
  {
   "cell_type": "code",
   "execution_count": null,
   "metadata": {},
   "outputs": [],
   "source": [
    "img = cv2.imread('data/cute-cats.bmp')\n",
    "\n",
    "cv2.imshow(\"Cute Cats\", img)\n",
    "cv2.imshow(\"Cute Cats 2\", img)\n",
    "cv2.waitKey(1000)\n",
    "cv2.destroyAllWindows()\n",
    "# cv2.destroyWindow(\"Cute Cats\")"
   ]
  },
  {
   "cell_type": "markdown",
   "metadata": {
    "id": "89flvZw6p4HC",
    "jp-MarkdownHeadingCollapsed": true,
    "tags": []
   },
   "source": [
    "#### <span style=\"font-size: 0.9em;\">🟨</span> **`cv2.setWindowTitle()`**"
   ]
  },
  {
   "cell_type": "code",
   "execution_count": null,
   "metadata": {},
   "outputs": [],
   "source": [
    "cv2.setWindowTitle?"
   ]
  },
  {
   "cell_type": "code",
   "execution_count": null,
   "metadata": {},
   "outputs": [],
   "source": [
    "img = cv2.imread('data/cute-cats.bmp')\n",
    "\n",
    "cv2.imshow(\"Cute Cats\", img)\n",
    "cv2.waitKey()\n",
    "\n",
    "cv2.setWindowTitle(\"Cute Cats\", \"Tiny Cats\")\n",
    "cv2.waitKey()\n",
    "\n",
    "cv2.destroyAllWindows()"
   ]
  },
  {
   "cell_type": "markdown",
   "metadata": {
    "id": "89flvZw6p4HC",
    "jp-MarkdownHeadingCollapsed": true,
    "tags": []
   },
   "source": [
    "#### <span style=\"font-size: 0.9em;\">🟨</span> **`cv2.waitKeyEx()`**"
   ]
  },
  {
   "cell_type": "code",
   "execution_count": null,
   "metadata": {},
   "outputs": [],
   "source": [
    "cv2.waitKeyEx?"
   ]
  },
  {
   "cell_type": "code",
   "execution_count": null,
   "metadata": {},
   "outputs": [],
   "source": [
    "img = cv2.imread('data/cute-cats.bmp')\n",
    "\n",
    "cv2.imshow(\"Cute Cats\", img)\n",
    "key = cv2.waitKeyEx(2000)\n",
    "print(key)\n",
    "\n",
    "cv2.destroyAllWindows()"
   ]
  },
  {
   "cell_type": "markdown",
   "metadata": {
    "id": "89flvZw6p4HC",
    "jp-MarkdownHeadingCollapsed": true,
    "tags": []
   },
   "source": [
    "#### <span style=\"font-size: 0.9em;\">🟨</span> **`cv2.pollKey()`**"
   ]
  },
  {
   "cell_type": "code",
   "execution_count": null,
   "metadata": {},
   "outputs": [],
   "source": [
    "cv2.pollKey?"
   ]
  },
  {
   "cell_type": "code",
   "execution_count": null,
   "metadata": {},
   "outputs": [],
   "source": [
    "img = cv2.imread('data/cute-cats.bmp')\n",
    "cv2.imshow(\"Cute Cats\", img)\n",
    "key = cv2.pollKey()\n",
    "print(key)\n",
    "\n",
    "cv2.destroyAllWindows()"
   ]
  },
  {
   "cell_type": "markdown",
   "metadata": {
    "id": "89flvZw6p4HC",
    "jp-MarkdownHeadingCollapsed": true,
    "tags": []
   },
   "source": [
    "#### <span style=\"font-size: 0.9em;\">🟨</span> **`cv2.namedWindow()`**"
   ]
  },
  {
   "cell_type": "code",
   "execution_count": null,
   "metadata": {
    "scrolled": true
   },
   "outputs": [],
   "source": [
    "cv2.namedWindow?"
   ]
  },
  {
   "cell_type": "code",
   "execution_count": null,
   "metadata": {},
   "outputs": [],
   "source": [
    "cv2.namedWindow(\"Test\", 1)\n",
    "cv2.waitKey()\n",
    "cv2.destroyAllWindows()"
   ]
  },
  {
   "cell_type": "code",
   "execution_count": null,
   "metadata": {},
   "outputs": [],
   "source": [
    "# cv2.namedWindow(\"Cute Cats\", cv2.WINDOW_AUTOSIZE)\n",
    "cv2.namedWindow(\"Cute Cats\", cv2.WINDOW_NORMAL)\n",
    "\n",
    "img = cv2.imread('data/cute-cats.bmp')\n",
    "cv2.imshow(\"Cute Cats\", img)\n",
    "cv2.waitKey()\n",
    "\n",
    "img = cv2.imread('data/flowers.png')\n",
    "cv2.imshow(\"Cute Cats\", img)\n",
    "cv2.waitKey()\n",
    "\n",
    "cv2.destroyAllWindows()"
   ]
  },
  {
   "cell_type": "markdown",
   "metadata": {
    "id": "89flvZw6p4HC",
    "jp-MarkdownHeadingCollapsed": true,
    "tags": []
   },
   "source": [
    "#### <span style=\"font-size: 0.9em;\">🟨</span> **`cv2.getWindowProperty()`**"
   ]
  },
  {
   "cell_type": "code",
   "execution_count": null,
   "metadata": {},
   "outputs": [],
   "source": [
    "cv2.getWindowProperty?"
   ]
  },
  {
   "cell_type": "markdown",
   "metadata": {},
   "source": [
    "<!DOCTYPE html>\n",
    "<html>\n",
    "<body>\n",
    "\n",
    "<div style=\"margin-left: 0; width: fit-content;\">\n",
    "  <table style=\"border-collapse: collapse; width: 100%; font-size: 18px;\">\n",
    "    <thead>\n",
    "      <tr>\n",
    "        <th style=\"border: 1px solid #dddddd; background-color: #f2f2f2; text-align: left; padding: 12px;\">Property</th>\n",
    "        <th style=\"border: 1px solid #dddddd; background-color: #f2f2f2; text-align: left; padding: 12px;\">Description</th>\n",
    "      </tr>\n",
    "    </thead>\n",
    "    <tbody>\n",
    "      <tr>\n",
    "        <td style=\"border: 1px solid #dddddd; text-align: left; padding: 12px;\">cv2.WND_PROP_FULLSCREEN</td>\n",
    "        <td style=\"border: 1px solid #dddddd; text-align: left; padding: 12px;\">Checks if the window is in fullscreen mode (returns 1 if fullscreen, 0 otherwise).</td>\n",
    "      </tr>\n",
    "      <tr>\n",
    "        <td style=\"border: 1px solid #dddddd; text-align: left; padding: 12px;\">cv2.WND_PROP_AUTOSIZE</td>\n",
    "        <td style=\"border: 1px solid #dddddd; text-align: left; padding: 12px;\">Checks if the window is automatically resized to fit the displayed image (returns 1 if autosize, 0 otherwise).</td>\n",
    "      </tr>\n",
    "      <tr>\n",
    "        <td style=\"border: 1px solid #dddddd; text-align: left; padding: 12px;\">cv2.WND_PROP_ASPECT_RATIO</td>\n",
    "        <td style=\"border: 1px solid #dddddd; text-align: left; padding: 12px;\">Retrieves the aspect ratio of the window (returns the aspect ratio value).</td>\n",
    "      </tr>\n",
    "      <tr>\n",
    "        <td style=\"border: 1px solid #dddddd; text-align: left; padding: 12px;\">cv2.WND_PROP_VISIBLE</td>\n",
    "        <td style=\"border: 1px solid #dddddd; text-align: left; padding: 12px;\">Checks if the window is visible (returns 1 if visible, 0 otherwise).</td>\n",
    "      </tr>\n",
    "      <tr>\n",
    "        <td style=\"border: 1px solid #dddddd; text-align: left; padding: 12px;\">cv2.WND_PROP_OPENGL</td>\n",
    "        <td style=\"border: 1px solid #dddddd; text-align: left; padding: 12px;\">Checks if the window is using OpenGL rendering (returns 1 if using OpenGL, 0 otherwise).</td>\n",
    "      </tr>\n",
    "      <tr>\n",
    "        <td style=\"border: 1px solid #dddddd; text-align: left; padding: 12px;\">cv2.WND_PROP_TOPMOST</td>\n",
    "        <td style=\"border: 1px solid #dddddd; text-align: left; padding: 12px;\">Checks if the window is always on top (returns 1 if topmost, 0 otherwise).</td>\n",
    "      </tr>\n",
    "      <tr>\n",
    "        <td style=\"border: 1px solid #dddddd; text-align: left; padding: 12px;\">cv2.WND_PROP_VSYNC</td>\n",
    "        <td style=\"border: 1px solid #dddddd; text-align: left; padding: 12px;\">Enable or disable VSYNC (in OpenGL mode).</td>\n",
    "      </tr>\n",
    "    </tbody>\n",
    "  </table>\n",
    "</div>\n",
    "\n",
    "</body>\n",
    "</html>\n"
   ]
  },
  {
   "cell_type": "code",
   "execution_count": null,
   "metadata": {},
   "outputs": [],
   "source": [
    "cv2.namedWindow(\"Cute Cats\", cv2.WINDOW_AUTOSIZE)\n",
    "\n",
    "img = cv2.imread('data/cute-cats.bmp')\n",
    "\n",
    "cv2.imshow(\"Cute Cats\", img)\n",
    "cv2.waitKey()\n",
    "\n",
    "visible = cv2.getWindowProperty(\"Cute Cats\", cv2.WND_PROP_VISIBLE)\n",
    "fullscreen = cv2.getWindowProperty(\"Cute Cats\", cv2.WND_PROP_FULLSCREEN)\n",
    "autosize = cv2.getWindowProperty(\"Cute Cats\", cv2.WND_PROP_AUTOSIZE)\n",
    "aspect_ratio = cv2.getWindowProperty(\"Cute Cats\", cv2.WND_PROP_ASPECT_RATIO)\n",
    "topmost = cv2.getWindowProperty(\"Cute Cats\", cv2.WND_PROP_TOPMOST)\n",
    "\n",
    "# Print the retrieved values\n",
    "print(\"Window visible:\", visible)\n",
    "print(\"Window fullscreen:\", fullscreen)\n",
    "print(\"Window autosize:\", autosize)\n",
    "print(\"Window aspect ratio:\", aspect_ratio)\n",
    "print(\"Window top most:\", topmost)\n",
    "\n",
    "cv2.destroyAllWindows()"
   ]
  },
  {
   "cell_type": "markdown",
   "metadata": {
    "id": "89flvZw6p4HC",
    "jp-MarkdownHeadingCollapsed": true,
    "tags": []
   },
   "source": [
    "#### <span style=\"font-size: 0.9em;\">🟨</span> **`cv2.setWindowProperty()`**"
   ]
  },
  {
   "cell_type": "code",
   "execution_count": null,
   "metadata": {},
   "outputs": [],
   "source": [
    "cv2.setWindowProperty?"
   ]
  },
  {
   "cell_type": "markdown",
   "metadata": {},
   "source": [
    "<!DOCTYPE html>\n",
    "<html>\n",
    "<body>\n",
    "\n",
    "<div style=\"margin-left: 0; width: fit-content;\">\n",
    "  <table style=\"border-collapse: collapse; width: 100%; font-size: 18px;\">\n",
    "    <thead>\n",
    "      <tr>\n",
    "        <th style=\"border: 1px solid #dddddd; background-color: #f2f2f2; text-align: left; padding: 12px;\">Attribute</th>\n",
    "        <th style=\"border: 1px solid #dddddd; background-color: #f2f2f2; text-align: left; padding: 12px;\">Description</th>\n",
    "      </tr>\n",
    "    </thead>\n",
    "    <tbody>\n",
    "      <tr>\n",
    "        <td style=\"border: 1px solid #dddddd; text-align: left; padding: 12px;\">cv2.WND_PROP_FULLSCREEN</td>\n",
    "        <td style=\"border: 1px solid #dddddd; text-align: left; padding: 12px;\">Fullscreen property (can be WINDOW_NORMAL or WINDOW_FULLSCREEN).</td>\n",
    "      </tr>\n",
    "      <tr>\n",
    "        <td style=\"border: 1px solid #dddddd; text-align: left; padding: 12px;\">cv2.WND_PROP_AUTOSIZE</td>\n",
    "        <td style=\"border: 1px solid #dddddd; text-align: left; padding: 12px;\">Autosize property (can be WINDOW_NORMAL or WINDOW_AUTOSIZE).</td>\n",
    "      </tr>\n",
    "      <tr>\n",
    "        <td style=\"border: 1px solid #dddddd; text-align: left; padding: 12px;\">cv2.WND_PROP_ASPECT_RATIO</td>\n",
    "        <td style=\"border: 1px solid #dddddd; text-align: left; padding: 12px;\">Window's aspect ratio (can be set to WINDOW_FREERATIO or WINDOW_KEEPRATIO).</td>\n",
    "      </tr>\n",
    "      <tr>\n",
    "        <td style=\"border: 1px solid #dddddd; text-align: left; padding: 12px;\">cv2.WND_PROP_OPENGL</td>\n",
    "        <td style=\"border: 1px solid #dddddd; text-align: left; padding: 12px;\">OpenGL support.</td>\n",
    "      </tr>\n",
    "      <tr>\n",
    "        <td style=\"border: 1px solid #dddddd; text-align: left; padding: 12px;\">cv2.WND_PROP_VISIBLE</td>\n",
    "        <td style=\"border: 1px solid #dddddd; text-align: left; padding: 12px;\">Checks whether the window exists and is visible.</td>\n",
    "      </tr>\n",
    "      <tr>\n",
    "        <td style=\"border: 1px solid #dddddd; text-align: left; padding: 12px;\">cv2.WND_PROP_TOPMOST</td>\n",
    "        <td style=\"border: 1px solid #dddddd; text-align: left; padding: 12px;\">Property to toggle normal window being topmost or not.</td>\n",
    "      </tr>\n",
    "      <tr>\n",
    "        <td style=\"border: 1px solid #dddddd; text-align: left; padding: 12px;\">cv2.WND_PROP_VSYNC</td>\n",
    "        <td style=\"border: 1px solid #dddddd; text-align: left; padding: 12px;\">Enable or disable VSYNC (in OpenGL mode).</td>\n",
    "      </tr>\n",
    "    </tbody>\n",
    "  </table>\n",
    "</div>\n",
    "\n",
    "</body>\n",
    "</html>\n"
   ]
  },
  {
   "cell_type": "code",
   "execution_count": null,
   "metadata": {},
   "outputs": [],
   "source": [
    "# cv2.namedWindow(\"Cute Cats\", cv2.WINDOW_NORMAL)\n",
    "# cv2.setWindowProperty(\"Cute Cats\", cv2.WND_PROP_FULLSCREEN, cv2.WINDOW_FULLSCREEN)\n",
    "\n",
    "cv2.namedWindow(\"Cute Cats\", cv2.WINDOW_AUTOSIZE)\n",
    "cv2.setWindowProperty(\"Cute Cats\", cv2.WND_PROP_TOPMOST, 1)\n",
    "\n",
    "img = cv2.imread('data/cute-cats.bmp')\n",
    "\n",
    "cv2.imshow(\"Cute Cats\", img)\n",
    "cv2.waitKey()\n",
    "\n",
    "visible = cv2.getWindowProperty(\"Cute Cats\", cv2.WND_PROP_VISIBLE)\n",
    "fullscreen = cv2.getWindowProperty(\"Cute Cats\", cv2.WND_PROP_FULLSCREEN)\n",
    "aspect_ratio = cv2.getWindowProperty(\"Cute Cats\", cv2.WND_PROP_ASPECT_RATIO)\n",
    "top_most = cv2.getWindowProperty(\"Cute Cats\", cv2.WND_PROP_TOPMOST)\n",
    "\n",
    "# Print the retrieved values\n",
    "print(\"Window visible:\", visible)\n",
    "print(\"Window fullscreen:\", fullscreen)\n",
    "print(\"Window aspect ratio:\", aspect_ratio)\n",
    "print(\"Window top most:\", top_most)\n",
    "\n",
    "cv2.destroyAllWindows()"
   ]
  },
  {
   "cell_type": "markdown",
   "metadata": {
    "id": "89flvZw6p4HC",
    "jp-MarkdownHeadingCollapsed": true,
    "tags": []
   },
   "source": [
    "#### <span style=\"font-size: 0.9em;\">🟨</span> **`cv2.getWindowImageRect()`**"
   ]
  },
  {
   "cell_type": "code",
   "execution_count": null,
   "metadata": {},
   "outputs": [],
   "source": [
    "cv2.getWindowImageRect?"
   ]
  },
  {
   "cell_type": "code",
   "execution_count": null,
   "metadata": {},
   "outputs": [],
   "source": [
    "img = cv2.imread('data/cute-cats.bmp')\n",
    "\n",
    "cv2.imshow(\"Cute Cats\", img)\n",
    "\n",
    "rect = cv2.getWindowImageRect(\"Cute Cats\")\n",
    "print(rect)\n",
    "\n",
    "cv2.waitKey()\n",
    "\n",
    "cv2.destroyAllWindows()"
   ]
  },
  {
   "cell_type": "markdown",
   "metadata": {
    "id": "89flvZw6p4HC",
    "jp-MarkdownHeadingCollapsed": true,
    "tags": []
   },
   "source": [
    "#### <span style=\"font-size: 0.9em;\">🟨</span> **`cv2.moveWindow()`**"
   ]
  },
  {
   "cell_type": "code",
   "execution_count": null,
   "metadata": {},
   "outputs": [],
   "source": [
    "cv2.moveWindow?"
   ]
  },
  {
   "cell_type": "code",
   "execution_count": null,
   "metadata": {},
   "outputs": [],
   "source": [
    "img = cv2.imread('data/cute-cats.bmp')\n",
    "\n",
    "cv2.imshow(\"Cute Cats\", img)\n",
    "rect = cv2.getWindowImageRect(\"Cute Cats\")\n",
    "print(rect)\n",
    "cv2.waitKey()\n",
    "\n",
    "cv2.moveWindow(\"Cute Cats\", -16, -31)\n",
    "rect = cv2.getWindowImageRect(\"Cute Cats\")\n",
    "print(rect)\n",
    "cv2.waitKey()\n",
    "\n",
    "cv2.destroyAllWindows()"
   ]
  },
  {
   "cell_type": "markdown",
   "metadata": {
    "id": "89flvZw6p4HC",
    "jp-MarkdownHeadingCollapsed": true,
    "tags": []
   },
   "source": [
    "#### <span style=\"font-size: 0.9em;\">🟨</span> **`cv2.resizeWindow()`**"
   ]
  },
  {
   "cell_type": "code",
   "execution_count": null,
   "metadata": {},
   "outputs": [],
   "source": [
    "cv2.resizeWindow?"
   ]
  },
  {
   "cell_type": "code",
   "execution_count": null,
   "metadata": {},
   "outputs": [],
   "source": [
    "img = cv2.imread('data/cute-cats.bmp')\n",
    "\n",
    "cv2.imshow(\"Cute Cats\", img)\n",
    "rect = cv2.getWindowImageRect(\"Cute Cats\")\n",
    "print(rect)\n",
    "cv2.waitKey()\n",
    "\n",
    "cv2.resizeWindow(\"Cute Cats\", 200, 400)\n",
    "rect = cv2.getWindowImageRect(\"Cute Cats\")\n",
    "print(rect)\n",
    "cv2.waitKey()\n",
    "\n",
    "cv2.destroyAllWindows()"
   ]
  },
  {
   "cell_type": "markdown",
   "metadata": {
    "id": "89flvZw6p4HC",
    "jp-MarkdownHeadingCollapsed": true,
    "tags": []
   },
   "source": [
    "#### <span style=\"font-size: 0.9em;\">🟨</span> **`cv2.selectROI()`**"
   ]
  },
  {
   "cell_type": "code",
   "execution_count": null,
   "metadata": {},
   "outputs": [],
   "source": [
    "cv2.selectROI?"
   ]
  },
  {
   "cell_type": "code",
   "execution_count": null,
   "metadata": {},
   "outputs": [],
   "source": [
    "img = cv2.imread('data/cute-cats.bmp')\n",
    "\n",
    "cv2.imshow(\"Cute Cats\", img)\n",
    "\n",
    "rect = cv2.selectROI(\"Cute Cats\", img)\n",
    "print(rect)\n",
    "\n",
    "x, y, w, h = rect\n",
    "patch = img[y:y+h, x:x+w, :]\n",
    "print(patch.shape)\n",
    "cv2.imshow(\"ROI\", patch)\n",
    "cv2.waitKey()\n",
    "\n",
    "cv2.destroyAllWindows()"
   ]
  },
  {
   "cell_type": "markdown",
   "metadata": {
    "id": "89flvZw6p4HC",
    "jp-MarkdownHeadingCollapsed": true,
    "tags": []
   },
   "source": [
    "#### <span style=\"font-size: 0.9em;\">🟨</span> **`cv2.selectROIs()`**"
   ]
  },
  {
   "cell_type": "code",
   "execution_count": null,
   "metadata": {},
   "outputs": [],
   "source": [
    "cv2.selectROIs?"
   ]
  },
  {
   "cell_type": "code",
   "execution_count": null,
   "metadata": {},
   "outputs": [],
   "source": [
    "img = cv2.imread('data/cute-cats.bmp')\n",
    "\n",
    "cv2.imshow(\"Cute Cats\", img)\n",
    "\n",
    "rect = cv2.selectROIs(\"Cute Cats\", img)\n",
    "print(rect)\n",
    "\n",
    "# EXERCISE :)\n",
    "\n",
    "cv2.destroyAllWindows()"
   ]
  },
  {
   "cell_type": "markdown",
   "metadata": {
    "id": "8d25DyDxov7H",
    "tags": []
   },
   "source": [
    "### <span style=\"font-size: 0.9em;\">🟧</span> **Mouse Event**"
   ]
  },
  {
   "cell_type": "code",
   "execution_count": null,
   "metadata": {},
   "outputs": [],
   "source": [
    "cv2.setMouseCallback?"
   ]
  },
  {
   "cell_type": "markdown",
   "metadata": {},
   "source": [
    "- **`cv2.EVENT_MOUSEMOVE`**: Mouse movement event.\n",
    "- \n",
    "- **`cv2.EVENT_LBUTTONDOWN`**: Left mouse button down event.\n",
    "- **`cv2.EVENT_RBUTTONDOWN`**: Right mouse button down event.\n",
    "- **`cv2.EVENT_MBUTTONDOWN`**: Middle mouse button down event.\n",
    "- \n",
    "- **`cv2.EVENT_LBUTTONUP`**: Left mouse button up event.\n",
    "- **`cv2.EVENT_RBUTTONUP`**: Right mouse button up event.\n",
    "- **`cv2.EVENT_MBUTTONUP`**: Middle mouse button up event.\n",
    "- \n",
    "- **`cv2.EVENT_LBUTTONDBLCLK`**: Left mouse button double-click event.\n",
    "- **`cv2.EVENT_RBUTTONDBLCLK`**: Right mouse button double-click event.\n",
    "- **`cv2.EVENT_MBUTTONDBLCLK`**: Middle mouse button double-click event.\n",
    "- \n",
    "- **`cv2.EVENT_MOUSEWHEEL`**: Mouse wheel scroll event.\n",
    "- **`cv2.EVENT_MOUSEHWHEEL`**: Mouse horizontal wheel scroll event."
   ]
  },
  {
   "cell_type": "code",
   "execution_count": null,
   "metadata": {},
   "outputs": [],
   "source": [
    "[item for item in dir(cv2) if 'EVENT_' in item]"
   ]
  },
  {
   "cell_type": "code",
   "execution_count": null,
   "metadata": {},
   "outputs": [],
   "source": [
    "cv2.EVENT_MOUSEWHEEL"
   ]
  },
  {
   "cell_type": "markdown",
   "metadata": {
    "id": "89flvZw6p4HC",
    "jp-MarkdownHeadingCollapsed": true,
    "tags": []
   },
   "source": [
    "#### <span style=\"font-size: 0.9em;\">🟨</span> **`cv2.EVENT_MOUSEMOVE`**"
   ]
  },
  {
   "cell_type": "code",
   "execution_count": null,
   "metadata": {},
   "outputs": [],
   "source": [
    "from IPython.display import clear_output"
   ]
  },
  {
   "cell_type": "code",
   "execution_count": null,
   "metadata": {},
   "outputs": [],
   "source": [
    "def callback_function(event, x, y, flag, param):\n",
    "    clear_output(wait=True)\n",
    "    # print(event)\n",
    "    # print(x, y)\n",
    "    print(flag)\n",
    "\n",
    "image = np.zeros((512, 512, 3), dtype=np.uint8)\n",
    "cv2.imshow(\"Image\", image)\n",
    "\n",
    "cv2.setMouseCallback(\"Image\", callback_function)\n",
    "\n",
    "cv2.waitKey()\n",
    "\n",
    "cv2.destroyAllWindows()"
   ]
  },
  {
   "cell_type": "code",
   "execution_count": null,
   "metadata": {},
   "outputs": [],
   "source": [
    "def callback_function(event, x, y, flag, param):\n",
    "    # clear_output(wait=True)\n",
    "    image[y, x, :] = 255\n",
    "    cv2.imshow(\"Image\", image)\n",
    "    \n",
    "\n",
    "image = np.zeros((512, 512, 3), dtype=np.uint8)\n",
    "cv2.imshow(\"Image\", image)\n",
    "\n",
    "cv2.setMouseCallback(\"Image\", callback_function)\n",
    "\n",
    "cv2.waitKey()\n",
    "\n",
    "cv2.destroyAllWindows()"
   ]
  },
  {
   "cell_type": "code",
   "execution_count": null,
   "metadata": {},
   "outputs": [],
   "source": [
    "def callback_function(event, x, y, flag, param):\n",
    "    if event == cv2.EVENT_MOUSEMOVE:\n",
    "        image[y, x, :] = 255    \n",
    "\n",
    "image = np.zeros((512, 512, 3), dtype=np.uint8)\n",
    "cv2.imshow(\"Image\", image)\n",
    "\n",
    "cv2.setMouseCallback(\"Image\", callback_function)\n",
    "\n",
    "while True:\n",
    "    cv2.imshow(\"Image\", image)\n",
    "    key = cv2.waitKey(1)\n",
    "    if key == ord('q'):\n",
    "        break\n",
    "\n",
    "cv2.destroyAllWindows()"
   ]
  },
  {
   "cell_type": "markdown",
   "metadata": {},
   "source": [
    "##### Make lines continued"
   ]
  },
  {
   "cell_type": "code",
   "execution_count": null,
   "metadata": {},
   "outputs": [],
   "source": [
    "dir(cv2)"
   ]
  },
  {
   "cell_type": "code",
   "execution_count": 2,
   "metadata": {},
   "outputs": [],
   "source": [
    "import cv2\n",
    "import numpy as np\n",
    "import matplotlib.pyplot as plt\n",
    "import os"
   ]
  },
  {
   "cell_type": "markdown",
   "metadata": {},
   "source": [
    "###### Make lines continued  1 Faield"
   ]
  },
  {
   "cell_type": "code",
   "execution_count": null,
   "metadata": {},
   "outputs": [],
   "source": [
    "def callback_function(event, x, y, flag, param):\n",
    "    if event == cv2.EVENT_MOUSEMOVE:\n",
    "        image[y, x, :] = 255    \n",
    "\n",
    "image = np.zeros((512, 512, 3), dtype=np.uint8)\n",
    "cv2.imshow(\"Image\", image)\n",
    "\n",
    "cv2.setMouseCallback(\"Image\", callback_function)\n",
    "\n",
    "while True:\n",
    "    cv2.imshow(\"Image\", image)\n",
    "    key = cv2.pollKey()\n",
    "    if key == ord('q'):\n",
    "        break\n",
    "\n",
    "cv2.destroyAllWindows()"
   ]
  },
  {
   "cell_type": "markdown",
   "metadata": {},
   "source": [
    "###### Make lines continued  2"
   ]
  },
  {
   "cell_type": "code",
   "execution_count": null,
   "metadata": {},
   "outputs": [],
   "source": [
    "cv2.setMouseCallback?\n",
    "\n",
    "# def onMouse(event, x, y, flags, userdata):\n",
    "#     print(f\"User data: {userdata}\")\n",
    "#     # Handle mouse events...\n",
    "\n",
    "# # Set callback with parameter\n",
    "# cv2.setMouseCallback(\"Window\", onMouse, \"Hello World!\")"
   ]
  },
  {
   "cell_type": "code",
   "execution_count": null,
   "metadata": {},
   "outputs": [],
   "source": [
    "def callback_function(event, x, y, flag, param):\n",
    "    if event == cv2.EVENT_MOUSEMOVE:\n",
    "        # image[y, x, :] = 255\n",
    "        cv2.line(image, (param[\"x\"], param[\"y\"]), (x, y), (255, 255, 255))\n",
    "\n",
    "    param[\"x\"] = x\n",
    "    param[\"y\"] = y\n",
    "\n",
    "\n",
    "image = np.zeros((512, 512, 3), dtype=np.uint8)\n",
    "cv2.imshow(\"Image\", image)\n",
    "\n",
    "shared_data = {\"x\": -1, \"y\": -1}\n",
    "cv2.setMouseCallback(\"Image\", callback_function, shared_data)\n",
    "\n",
    "while True:\n",
    "    cv2.imshow(\"Image\", image)\n",
    "    key = cv2.pollKey()\n",
    "    if key == ord(\"q\"):\n",
    "        break\n",
    "\n",
    "cv2.destroyAllWindows()\n"
   ]
  },
  {
   "cell_type": "markdown",
   "metadata": {},
   "source": [
    "###### Make lines continued  3"
   ]
  },
  {
   "cell_type": "code",
   "execution_count": null,
   "metadata": {},
   "outputs": [],
   "source": [
    "def callback_function(event, x, y, flag, param):\n",
    "    if event==cv2.EVENT_LBUTTONDOWN:\n",
    "        param[\"state\"]=\"LBUTTONDOWN\"\n",
    "    elif event==cv2.EVENT_LBUTTONUP:\n",
    "        param[\"state\"]=\"LBUTTONUP\"\n",
    "        \n",
    "    if event == cv2.EVENT_MOUSEMOVE:\n",
    "        # image[y, x, :] = 255\n",
    "            if param[\"state\"]==\"LBUTTONDOWN\":\n",
    "                if param[\"x\"]>=0:\n",
    "                    cv2.line(image, (param[\"x\"], param[\"y\"]), (x, y), (255, 255, 255))\n",
    "    elif event== cv2.EVENT_RBUTTONUP: #clean\n",
    "        image[:,:,:]=0\n",
    "\n",
    "    param[\"x\"] = x\n",
    "    param[\"y\"] = y\n",
    "\n",
    "\n",
    "image = np.zeros((512, 512, 3), dtype=np.uint8)\n",
    "cv2.imshow(\"Image\", image)\n",
    "\n",
    "shared_data = {\"x\": -1, \"y\": -1,\"state\":None}\n",
    "cv2.setMouseCallback(\"Image\", callback_function, shared_data)\n",
    "\n",
    "while True:\n",
    "    cv2.imshow(\"Image\", image)\n",
    "    key = cv2.pollKey()\n",
    "    if key == ord(\"q\"):\n",
    "        break\n",
    "\n",
    "cv2.destroyAllWindows()"
   ]
  },
  {
   "cell_type": "markdown",
   "metadata": {},
   "source": [
    "###### Make lines continued  4"
   ]
  },
  {
   "cell_type": "code",
   "execution_count": 8,
   "metadata": {},
   "outputs": [],
   "source": [
    "def nothing(x):\n",
    "    pass\n",
    "def callback_function(event, x, y, flag, param):\n",
    "    if event == cv2.EVENT_LBUTTONDOWN:\n",
    "        param[\"state\"] = \"LBUTTONDOWN\"\n",
    "    if event == cv2.EVENT_LBUTTONUP:\n",
    "        param[\"state\"] = \"LBUTTONUP\"\n",
    "\n",
    "    if event == cv2.EVENT_MOUSEWHEEL:\n",
    "        if flag > 0:\n",
    "            param[\"thickness\"] += 1\n",
    "        else:\n",
    "            param[\"thickness\"] -= 1\n",
    "        param[\"thickness\"] = min(max(param[\"thickness\"], 1), 20)\n",
    "\n",
    "    if event == cv2.EVENT_MOUSEMOVE:\n",
    "        # image[y, x, :] = 255\n",
    "        if param[\"state\"] == \"LBUTTONDOWN\":\n",
    "            if param[\"x\"] >= 0:\n",
    "                cv2.line(\n",
    "                    image,\n",
    "                    (param[\"x\"], param[\"y\"]),\n",
    "                    (x, y),\n",
    "                    shared_data[\"color\"],\n",
    "                    thickness=param[\"thickness\"],\n",
    "                )\n",
    "        param[\"x\"] = x\n",
    "        param[\"y\"] = y\n",
    "\n",
    "    if event == cv2.EVENT_RBUTTONUP:  # clean\n",
    "        image[:, :, :] = 0\n",
    "\n",
    "\n",
    "\n",
    "image = np.zeros((512, 512, 3), dtype=np.uint8)\n",
    "cv2.imshow(\"Image\", image)\n",
    "\n",
    "shared_data = {\"x\": -1, \"y\": -1, \"state\": None, \"thickness\": 1, \"color\":(0,0,0)}\n",
    "cv2.setMouseCallback(\"Image\", callback_function, shared_data)\n",
    "\n",
    "cv2.createTrackbar(\"color_r\", \"Image\", 127, 255, nothing)\n",
    "cv2.createTrackbar(\"color_g\", \"Image\", 127, 255, nothing)\n",
    "cv2.createTrackbar(\"color_b\", \"Image\", 127, 255, nothing)\n",
    "while True:\n",
    "    r=cv2.getTrackbarPos(\"color_r\",\"Image\")\n",
    "    g=cv2.getTrackbarPos(\"color_g\",\"Image\")\n",
    "    b=cv2.getTrackbarPos(\"color_b\",\"Image\")\n",
    "    shared_data[\"color\"]=(b,g,r)\n",
    "    cv2.imshow(\"Image\", image)\n",
    "    key = cv2.pollKey()\n",
    "    if key == ord(\"q\"):\n",
    "        break\n",
    "\n",
    "cv2.destroyAllWindows()"
   ]
  },
  {
   "cell_type": "markdown",
   "metadata": {
    "id": "89flvZw6p4HC",
    "jp-MarkdownHeadingCollapsed": true,
    "tags": []
   },
   "source": [
    "#### <span style=\"font-size: 0.9em;\">🟨</span> **`cv2.EVENT_MOUSEWHEEL`**"
   ]
  },
  {
   "cell_type": "code",
   "execution_count": null,
   "metadata": {},
   "outputs": [],
   "source": [
    "def callback_function(event, x, y, flags, delta):\n",
    "    clear_output(wait=True)\n",
    "    if event == cv2.EVENT_MOUSEWHEEL:\n",
    "        if flags > 0:\n",
    "            print(\"Mouse wheel scrolled up\")\n",
    "        else:\n",
    "            print(\"Mouse wheel scrolled down\")\n",
    "\n",
    "image = np.zeros((512, 512, 3), dtype=np.uint8)\n",
    "\n",
    "cv2.namedWindow(\"Image\")\n",
    "cv2.setMouseCallback(\"Image\", callback_function)\n",
    "\n",
    "while True:\n",
    "    cv2.imshow(\"Image\", image)\n",
    "    key = cv2.waitKey(1)\n",
    "    if key == ord(\"q\"):\n",
    "        break\n",
    "\n",
    "cv2.destroyAllWindows()"
   ]
  },
  {
   "cell_type": "markdown",
   "metadata": {
    "id": "89flvZw6p4HC",
    "jp-MarkdownHeadingCollapsed": true,
    "tags": []
   },
   "source": [
    "#### <span style=\"font-size: 0.9em;\">🟨</span> **Click!**"
   ]
  },
  {
   "cell_type": "code",
   "execution_count": null,
   "metadata": {
    "scrolled": true
   },
   "outputs": [],
   "source": [
    "def callback_function(event, x, y, flags, delta):\n",
    "    if event == cv2.EVENT_LBUTTONDOWN:\n",
    "        cv2.circle(image, (x, y), delta, (255, 0, 0), thickness=-1) # blue\n",
    "    elif event == cv2.EVENT_LBUTTONUP:\n",
    "        cv2.circle(image, (x, y), delta, (0, 0, 255), thickness=-1) # red\n",
    "    elif event == cv2.EVENT_RBUTTONDOWN:\n",
    "        cv2.circle(image, (x, y), delta, (0, 255, 0), thickness=-1) # green\n",
    "\n",
    "image = np.zeros((512, 512, 3), dtype=np.uint8)\n",
    "cv2.namedWindow(\"Image\")\n",
    "\n",
    "delta = 5\n",
    "cv2.setMouseCallback(\"Image\", callback_function, delta)\n",
    "\n",
    "while True:\n",
    "    cv2.imshow(\"Image\", image)\n",
    "    key = cv2.waitKey(1)\n",
    "    if key == ord(\"q\"):\n",
    "        break\n",
    "\n",
    "cv2.destroyAllWindows()"
   ]
  },
  {
   "cell_type": "markdown",
   "metadata": {
    "id": "89flvZw6p4HC",
    "jp-MarkdownHeadingCollapsed": true,
    "tags": []
   },
   "source": [
    "#### <span style=\"font-size: 0.9em;\">🟨</span> **Mini-project**"
   ]
  },
  {
   "cell_type": "code",
   "execution_count": null,
   "metadata": {},
   "outputs": [],
   "source": [
    "start, end = False, False\n",
    "top_left, bottom_right = (-1, -1), (-1, -1)\n",
    "\n",
    "def mouse_callback_function(event, x, y, flags, param):\n",
    "    \n",
    "    global start, end, top_left, bottom_right   \n",
    "    \n",
    "    if event == cv2.EVENT_MOUSEMOVE:\n",
    "        img_copy = img.copy()\n",
    "        cv2.line(img_copy, (x, 0), (x, rows), (0, 0, 0), thickness=1)  # Vertical\n",
    "        cv2.line(img_copy, (0, y), (cols, y), (0, 0, 0), thickness=1)  # Horizontal\n",
    "        if start:\n",
    "            cv2.line(img_copy, (top_left[0], 0), (top_left[0], rows), (0, 0, 255), thickness=1)  # Vertical\n",
    "            cv2.line(img_copy, (0, top_left[1]), (cols, top_left[1]), (0, 0, 255), thickness=1)  # Horizontal\n",
    "        cv2.imshow(\"Image\", img_copy)\n",
    "        \n",
    "    elif event == cv2.EVENT_LBUTTONDOWN:\n",
    "        if start:\n",
    "            end = True\n",
    "            bottom_right = (x, y)\n",
    "            cv2.rectangle(img, top_left, bottom_right, (0, 0, 255), thickness=3)\n",
    "            cv2.imshow(\"Image\", img)\n",
    "            start, end = False, False\n",
    "        else:\n",
    "            img_copy = img.copy()\n",
    "            top_left = (x, y)\n",
    "            start = True\n",
    "            cv2.line(img_copy, (x, 0), (x, rows), (0, 0, 255), thickness=1)  # Vertical\n",
    "            cv2.line(img_copy, (0, y), (cols, y), (0, 0, 255), thickness=1)  # Horizontal\n",
    "            cv2.imshow(\"Image\", img_copy)\n",
    "\n",
    "\n",
    "img = cv2.imread(\"data/cute-cats.bmp\")\n",
    "rows, cols, _ = img.shape\n",
    "\n",
    "cv2.namedWindow('Image')\n",
    "cv2.setMouseCallback('Image', mouse_callback_function)\n",
    "\n",
    "cv2.imshow('Image', img)\n",
    "cv2.waitKey()\n",
    "cv2.destroyAllWindows()\n"
   ]
  },
  {
   "cell_type": "code",
   "execution_count": null,
   "metadata": {},
   "outputs": [],
   "source": [
    "# EXERCISE [(top_left[0], top_left[1], bottom_right[0], bottom_right[1]), (top_left[0], top_left[1], bottom_right[0], bottom_right[1]), ...]"
   ]
  },
  {
   "cell_type": "code",
   "execution_count": null,
   "metadata": {},
   "outputs": [],
   "source": [
    "# EXERCISE {'cat': (top_left[0], top_left[1], bottom_right[0], bottom_right[1]), \n",
    "#           'dog': (top_left[0], top_left[1], bottom_right[0], bottom_right[1]), \n",
    "#           ...}"
   ]
  },
  {
   "cell_type": "markdown",
   "metadata": {
    "id": "8d25DyDxov7H",
    "jp-MarkdownHeadingCollapsed": true,
    "tags": []
   },
   "source": [
    "### <span style=\"font-size: 0.9em;\">🟧</span> **Trackbar**"
   ]
  },
  {
   "cell_type": "code",
   "execution_count": null,
   "metadata": {},
   "outputs": [],
   "source": [
    "cv2.createTrackbar?"
   ]
  },
  {
   "cell_type": "code",
   "execution_count": null,
   "metadata": {},
   "outputs": [],
   "source": [
    "def trackbar_callback(value):\n",
    "    value /= 255\n",
    "    # clear_output(wait=True)\n",
    "    # print(value)\n",
    "\n",
    "cv2.namedWindow(\"Image\")\n",
    "\n",
    "cv2.createTrackbar(\"Trackbar\", \"Image\", 0, 255, trackbar_callback)\n",
    "# cv2.setTrackbarMin(\"Trackbar\", \"Image\", 10)\n",
    "# cv2.setTrackbarMax(\"Trackbar\", \"Image\", 100)\n",
    "cv2.setTrackbarPos(\"Trackbar\", \"Image\", 128)\n",
    "\n",
    "while True:\n",
    "    clear_output(wait=True)\n",
    "    cv2.namedWindow(\"Image\")\n",
    "    key = cv2.waitKey(1)\n",
    "    if key == ord('q'):\n",
    "        break\n",
    "    val = cv2.getTrackbarPos(\"Trackbar\", \"Image\")\n",
    "    print(val)\n",
    "\n",
    "cv2.waitKey()\n",
    "cv2.destroyAllWindows()"
   ]
  },
  {
   "cell_type": "code",
   "execution_count": null,
   "metadata": {},
   "outputs": [],
   "source": [
    "def trackbar_callback(value):\n",
    "    img_copy = img.copy()\n",
    "    img_copy += value\n",
    "    cv2.imshow(\"Image\", img_copy)\n",
    "\n",
    "img = np.zeros((500, 500, 3), dtype=np.uint8)\n",
    "cv2.imshow(\"Image\", img)\n",
    "\n",
    "cv2.createTrackbar(\"Trackbar\", \"Image\", 0, 255, trackbar_callback)\n",
    "\n",
    "cv2.waitKey()\n",
    "cv2.destroyAllWindows()"
   ]
  },
  {
   "cell_type": "code",
   "execution_count": null,
   "metadata": {},
   "outputs": [],
   "source": [
    "def trackbar_callback(value):\n",
    "    pass\n",
    "\n",
    "img = np.zeros((500, 500, 3), dtype=np.uint8)\n",
    "cv2.imshow(\"Image\", img)\n",
    "\n",
    "cv2.createTrackbar(\"Trackbar\", \"Image\", 0, 255, trackbar_callback)\n",
    "\n",
    "while True:\n",
    "    val = cv2.getTrackbarPos(\"Trackbar\", \"Image\")\n",
    "    img_copy = img.copy()\n",
    "    img_copy += val\n",
    "    cv2.imshow(\"Image\", img_copy)\n",
    "    key = cv2.waitKey(1)\n",
    "    if key == ord('q'):\n",
    "        break\n",
    "\n",
    "cv2.destroyAllWindows()"
   ]
  },
  {
   "cell_type": "markdown",
   "metadata": {
    "id": "89flvZw6p4HC",
    "jp-MarkdownHeadingCollapsed": true,
    "tags": []
   },
   "source": [
    "#### <span style=\"font-size: 0.9em;\">🟨</span> **Example 1**"
   ]
  },
  {
   "cell_type": "code",
   "execution_count": null,
   "metadata": {},
   "outputs": [],
   "source": [
    "def trackbar_callback(value):\n",
    "    value = (value - 128) / 255\n",
    "    adjusted_image = image + value\n",
    "    cv2.imshow(\"Image\", adjusted_image)\n",
    "\n",
    "\n",
    "image = cv2.imread(\"data/brightness.png\", cv2.IMREAD_GRAYSCALE)\n",
    "cv2.imshow(\"Image\", image)\n",
    "\n",
    "# Normalize the image to [0, 1]\n",
    "# image = cv2.normalize(image, None, alpha=0, beta=1, norm_type=cv2.NORM_MINMAX, dtype=cv2.CV_32F)\n",
    "image = image / 255\n",
    "\n",
    "cv2.createTrackbar(\"Trackbar\", \"Image\", 0, 255, trackbar_callback)\n",
    "cv2.setTrackbarPos(\"Trackbar\", \"Image\", 128)\n",
    "\n",
    "cv2.waitKey()\n",
    "cv2.destroyAllWindows()"
   ]
  },
  {
   "cell_type": "markdown",
   "metadata": {
    "id": "89flvZw6p4HC",
    "jp-MarkdownHeadingCollapsed": true,
    "tags": []
   },
   "source": [
    "#### <span style=\"font-size: 0.9em;\">🟨</span> **Example 2**"
   ]
  },
  {
   "cell_type": "code",
   "execution_count": null,
   "metadata": {},
   "outputs": [],
   "source": [
    "def on_trackbar(val):\n",
    "    alpha = val / alpha_slider_max\n",
    "    beta = 1.0 - alpha\n",
    "    dst = cv2.addWeighted(src2, alpha, src1, beta, 0.0)\n",
    "    cv2.imshow(title_window, dst)\n",
    "\n",
    "\n",
    "alpha_slider_max = 100\n",
    "title_window = \"Image Blending\"\n",
    "\n",
    "src1 = cv2.imread(\"data/eye.jpg\", cv2.IMREAD_GRAYSCALE)\n",
    "src1 = cv2.normalize(src1, None, 0, 1, cv2.NORM_MINMAX, cv2.CV_32FC1)\n",
    "\n",
    "src2 = cv2.imread(\"data/eye-mask.png\", cv2.IMREAD_GRAYSCALE)\n",
    "src2 = cv2.normalize(src2, None, 0, 1, cv2.NORM_MINMAX, cv2.CV_32FC1)\n",
    "\n",
    "cv2.imshow(title_window, src1)\n",
    " \n",
    "cv2.createTrackbar(\"Trackbar\", title_window, 0, alpha_slider_max, on_trackbar)\n",
    " \n",
    "cv2.waitKey()\n",
    "cv2.destroyAllWindows()"
   ]
  },
  {
   "cell_type": "markdown",
   "metadata": {
    "id": "89flvZw6p4HC",
    "jp-MarkdownHeadingCollapsed": true,
    "tags": []
   },
   "source": [
    "#### <span style=\"font-size: 0.9em;\">🟨</span> **Example 3**"
   ]
  },
  {
   "cell_type": "code",
   "execution_count": null,
   "metadata": {},
   "outputs": [],
   "source": [
    "def nothing(x):\n",
    " pass\n",
    " \n",
    "# Create a black image, a window\n",
    "img = np.zeros((300,512,3), np.uint8)\n",
    "cv2.namedWindow('image')\n",
    "\n",
    "# create switch for ON/OFF functionality\n",
    "switch = '0 : OFF \\n 1 : ON'\n",
    "cv2.createTrackbar(switch, 'image',0,1,nothing)\n",
    "\n",
    "# create trackbars for color change\n",
    "cv2.createTrackbar('R','image',0,255,nothing)\n",
    " \n",
    "cv2.createTrackbar('G','image',0,255,nothing)\n",
    "cv2.createTrackbar('B','image',0,255,nothing)\n",
    " \n",
    "while(1):\n",
    "    cv2.imshow('image',img)\n",
    "    k = cv2.waitKey(1) & 0xFF\n",
    "    if k == 27:\n",
    "        break\n",
    " \n",
    "    # get current positions of four trackbars\n",
    "    r = cv2.getTrackbarPos('R','image')\n",
    "    g = cv2.getTrackbarPos('G','image')\n",
    "    b = cv2.getTrackbarPos('B','image')\n",
    "    s = cv2.getTrackbarPos(switch,'image')\n",
    "    \n",
    "    if s == 0:\n",
    "        img[:] = 0\n",
    "    else:\n",
    "        img[:] = [b,g,r]\n",
    " \n",
    "cv2.destroyAllWindows()"
   ]
  }
 ],
 "metadata": {
  "colab": {
   "collapsed_sections": [],
   "name": "Introduction to PyTorch [howsam.org].ipynb",
   "provenance": []
  },
  "kernelspec": {
   "display_name": "venv_general_312",
   "language": "python",
   "name": "python3"
  },
  "language_info": {
   "codemirror_mode": {
    "name": "ipython",
    "version": 3
   },
   "file_extension": ".py",
   "mimetype": "text/x-python",
   "name": "python",
   "nbconvert_exporter": "python",
   "pygments_lexer": "ipython3",
   "version": "3.12.9"
  }
 },
 "nbformat": 4,
 "nbformat_minor": 4
}
