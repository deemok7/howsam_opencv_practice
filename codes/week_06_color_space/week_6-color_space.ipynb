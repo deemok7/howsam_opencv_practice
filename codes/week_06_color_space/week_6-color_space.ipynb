{
 "cells": [
  {
   "cell_type": "markdown",
   "metadata": {},
   "source": [
    "# <font color='#FFE15D'>**Week 6: Color Space**</font> 🔴🟢🔵"
   ]
  },
  {
   "cell_type": "markdown",
   "metadata": {
    "colab_type": "text",
    "id": "QAw_hhj9CsUA",
    "jp-MarkdownHeadingCollapsed": true,
    "tags": []
   },
   "source": [
    "## <span style=\"font-size: 0.9em;\">🟥</span> **Import**\n"
   ]
  },
  {
   "cell_type": "code",
   "execution_count": 61,
   "metadata": {},
   "outputs": [],
   "source": [
    "import cv2\n",
    "import numpy as np\n",
    "import matplotlib.pyplot as plt"
   ]
  },
  {
   "cell_type": "code",
   "execution_count": 62,
   "metadata": {},
   "outputs": [
    {
     "data": {
      "text/plain": [
       "'4.11.0'"
      ]
     },
     "execution_count": 62,
     "metadata": {},
     "output_type": "execute_result"
    }
   ],
   "source": [
    "cv2.__version__"
   ]
  },
  {
   "cell_type": "markdown",
   "metadata": {
    "jp-MarkdownHeadingCollapsed": true
   },
   "source": [
    "## <span style=\"font-size: 0.9em;\">🟥</span> **Section 0: Image Generation**"
   ]
  },
  {
   "cell_type": "code",
   "execution_count": 63,
   "metadata": {},
   "outputs": [],
   "source": [
    "# Define the size of each square and the margin\n",
    "square_size = 100\n",
    "margin = 10\n",
    "\n",
    "# Define the colors (in BGR format)\n",
    "colors = [\n",
    "    (0, 0, 255),      # Red\n",
    "    (255, 0, 0),      # Blue\n",
    "    (0, 255, 0),      # Green\n",
    "    (0, 255, 255),    # Yellow\n",
    "    (255, 255, 0),    # Cyan\n",
    "    (255, 0, 255),    # Magenta\n",
    "    (0, 0, 0),        # Black\n",
    "    (128, 128, 128),  # Gray\n",
    "    (255, 255, 255),  # White\n",
    "    (0, 165, 255),    # Orange\n",
    "    (0, 0, 128),      # Maroon\n",
    "    (39, 57, 89),     # Brown\n",
    "]\n",
    "\n",
    "# Calculate the dimensions of the inner content\n",
    "inner_height = 3 * square_size + 4 * margin\n",
    "inner_width = 4 * square_size + 5 * margin\n",
    "\n",
    "# Create an empty gray image\n",
    "outer_margin = 0\n",
    "image_height = inner_height + 2 * outer_margin\n",
    "image_width = inner_width + 2 * outer_margin\n",
    "image = np.ones((image_height, image_width, 3), dtype=np.uint8) * 30  # Gray background\n",
    "\n",
    "# Draw the colored squares within the black rectangle\n",
    "for i in range(4):\n",
    "    for j in range(3):\n",
    "        top_left = (outer_margin + margin + i * (square_size + margin), outer_margin + margin + j * (square_size + margin))\n",
    "        bottom_right = (top_left[0] + square_size, top_left[1] + square_size)\n",
    "        color_index = i * 3 + j\n",
    "        cv2.rectangle(image, top_left, bottom_right, colors[color_index], -1)\n",
    "\n",
    "# Save and display the image\n",
    "cv2.imwrite('data/color_spaces.png', image)\n",
    "cv2.imshow('Color Spaces', image)\n",
    "cv2.waitKey(0)\n",
    "cv2.destroyAllWindows()"
   ]
  },
  {
   "cell_type": "markdown",
   "metadata": {
    "jp-MarkdownHeadingCollapsed": true
   },
   "source": [
    "## <span style=\"font-size: 0.9em;\">🟥</span> **Section 1: Color Spaces**"
   ]
  },
  {
   "cell_type": "markdown",
   "metadata": {
    "id": "8d25DyDxov7H",
    "jp-MarkdownHeadingCollapsed": true,
    "tags": []
   },
   "source": [
    "### <span style=\"font-size: 0.9em;\">🟧</span> **`cv2.cvtColor()`**"
   ]
  },
  {
   "cell_type": "code",
   "execution_count": 64,
   "metadata": {
    "scrolled": true
   },
   "outputs": [
    {
     "name": "stdout",
     "output_type": "stream",
     "text": [
      "\u001b[1;31mDocstring:\u001b[0m\n",
      "cvtColor(src, code[, dst[, dstCn[, hint]]]) -> dst\n",
      ".   @brief Converts an image from one color space to another.\n",
      ".   \n",
      ".   The function converts an input image from one color space to another. In case of a transformation\n",
      ".   to-from RGB color space, the order of the channels should be specified explicitly (RGB or BGR). Note\n",
      ".   that the default color format in OpenCV is often referred to as RGB but it is actually BGR (the\n",
      ".   bytes are reversed). So the first byte in a standard (24-bit) color image will be an 8-bit Blue\n",
      ".   component, the second byte will be Green, and the third byte will be Red. The fourth, fifth, and\n",
      ".   sixth bytes would then be the second pixel (Blue, then Green, then Red), and so on.\n",
      ".   \n",
      ".   The conventional ranges for R, G, and B channel values are:\n",
      ".   -   0 to 255 for CV_8U images\n",
      ".   -   0 to 65535 for CV_16U images\n",
      ".   -   0 to 1 for CV_32F images\n",
      ".   \n",
      ".   In case of linear transformations, the range does not matter. But in case of a non-linear\n",
      ".   transformation, an input RGB image should be normalized to the proper value range to get the correct\n",
      ".   results, for example, for RGB \\f$\\rightarrow\\f$ L\\*u\\*v\\* transformation. For example, if you have a\n",
      ".   32-bit floating-point image directly converted from an 8-bit image without any scaling, then it will\n",
      ".   have the 0..255 value range instead of 0..1 assumed by the function. So, before calling #cvtColor ,\n",
      ".   you need first to scale the image down:\n",
      ".   @code\n",
      ".       img *= 1./255;\n",
      ".       cvtColor(img, img, COLOR_BGR2Luv);\n",
      ".   @endcode\n",
      ".   If you use #cvtColor with 8-bit images, the conversion will have some information lost. For many\n",
      ".   applications, this will not be noticeable but it is recommended to use 32-bit images in applications\n",
      ".   that need the full range of colors or that convert an image before an operation and then convert\n",
      ".   back.\n",
      ".   \n",
      ".   If conversion adds the alpha channel, its value will set to the maximum of corresponding channel\n",
      ".   range: 255 for CV_8U, 65535 for CV_16U, 1 for CV_32F.\n",
      ".   \n",
      ".   @param src input image: 8-bit unsigned, 16-bit unsigned ( CV_16UC... ), or single-precision\n",
      ".   floating-point.\n",
      ".   @param dst output image of the same size and depth as src.\n",
      ".   @param code color space conversion code (see #ColorConversionCodes).\n",
      ".   @param dstCn number of channels in the destination image; if the parameter is 0, the number of the\n",
      ".   channels is derived automatically from src and code.\n",
      ".   @param hint Implementation modfication flags. See #AlgorithmHint\n",
      ".   \n",
      ".   @see @ref imgproc_color_conversions\n",
      "\u001b[1;31mType:\u001b[0m      builtin_function_or_method"
     ]
    }
   ],
   "source": [
    "cv2.cvtColor?"
   ]
  },
  {
   "cell_type": "code",
   "execution_count": 65,
   "metadata": {},
   "outputs": [],
   "source": [
    "#cv2.COLOR_BGR2"
   ]
  },
  {
   "cell_type": "markdown",
   "metadata": {},
   "source": [
    "#### Using Matplotlib to get RGB values (NOT IN JUPITER)"
   ]
  },
  {
   "cell_type": "code",
   "execution_count": 66,
   "metadata": {},
   "outputs": [],
   "source": [
    "def show_using_matplotlib(rgb_image=None, bgr_image=None, name=None):\n",
    "    import matplotlib.pyplot as plt\n",
    "\n",
    "    if rgb_image is not None:\n",
    "        pass\n",
    "    elif bgr_image is not None:\n",
    "        rgb_image = cv2.cvtColor(bgr_image, cv2.COLOR_BGR2RGB)\n",
    "    else:\n",
    "        raise Exception(\"Give an image as input\")\n",
    "\n",
    "    if not name:\n",
    "        from datetime import datetime\n",
    "\n",
    "        now = datetime.now()\n",
    "        date_time = now.strftime(\"%m/%d/%Y, %H:%M:%S\")\n",
    "        name = date_time\n",
    "    fig = plt.figure()\n",
    "    plt.title(name)\n",
    "    plt.imshow(rgb_image)\n",
    "    plt.show()"
   ]
  },
  {
   "cell_type": "code",
   "execution_count": 67,
   "metadata": {},
   "outputs": [],
   "source": [
    "img = cv2.imread(\"data/color_spaces.png\")\n",
    "img = cv2.normalize(img, None, alpha=0, beta=1, norm_type=cv2.NORM_MINMAX, dtype=cv2.CV_32FC3)\n",
    "\n",
    "cv2.imshow(\"Original Image\", img)\n",
    "cv2.waitKey()\n",
    "cv2.destroyAllWindows()"
   ]
  },
  {
   "cell_type": "code",
   "execution_count": 68,
   "metadata": {},
   "outputs": [
    {
     "data": {
      "image/png": "[encoded data removed]",
      "text/plain": [
       "<Figure size 640x480 with 1 Axes>"
      ]
     },
     "metadata": {},
     "output_type": "display_data"
    }
   ],
   "source": [
    "show_using_matplotlib(bgr_image=img,name=None)"
   ]
  },
  {
   "cell_type": "markdown",
   "metadata": {
    "id": "89flvZw6p4HC",
    "jp-MarkdownHeadingCollapsed": true,
    "tags": []
   },
   "source": [
    "#### <span style=\"font-size: 0.9em;\">🟨</span> **BGR2RGB**"
   ]
  },
  {
   "cell_type": "code",
   "execution_count": 69,
   "metadata": {},
   "outputs": [],
   "source": [
    "img = cv2.cvtColor(img, cv2.COLOR_BGR2RGB)\n",
    "# img[..., ::-1]\n",
    "\n",
    "cv2.imshow(\"Original Image\", img)\n",
    "cv2.waitKey()\n",
    "cv2.destroyAllWindows()"
   ]
  },
  {
   "cell_type": "code",
   "execution_count": 70,
   "metadata": {},
   "outputs": [],
   "source": [
    "cv2.imshow(\"Original Image\", img[..., ::-1])\n",
    "cv2.waitKey()\n",
    "cv2.destroyAllWindows()"
   ]
  },
  {
   "cell_type": "markdown",
   "metadata": {
    "id": "89flvZw6p4HC",
    "jp-MarkdownHeadingCollapsed": true,
    "tags": []
   },
   "source": [
    "#### <span style=\"font-size: 0.9em;\">🟨</span> **BGR2GRAY**"
   ]
  },
  {
   "cell_type": "code",
   "execution_count": 71,
   "metadata": {},
   "outputs": [],
   "source": [
    "gray = cv2.cvtColor(img, cv2.COLOR_BGR2GRAY)\n",
    "cv2.imshow(\"Original Image 1\", gray)\n",
    "\n",
    "gray = cv2.cvtColor(img, cv2.COLOR_RGB2GRAY)\n",
    "cv2.imshow(\"Original Image 2\", gray)\n",
    "\n",
    "cv2.waitKey()\n",
    "cv2.destroyAllWindows()"
   ]
  },
  {
   "cell_type": "markdown",
   "metadata": {
    "id": "89flvZw6p4HC",
    "jp-MarkdownHeadingCollapsed": true,
    "tags": []
   },
   "source": [
    "#### <span style=\"font-size: 0.9em;\">🟨</span> **BGR2BGRA**"
   ]
  },
  {
   "cell_type": "code",
   "execution_count": 72,
   "metadata": {},
   "outputs": [
    {
     "data": {
      "text/plain": [
       "(340, 450, 4)"
      ]
     },
     "execution_count": 72,
     "metadata": {},
     "output_type": "execute_result"
    }
   ],
   "source": [
    "img = cv2.cvtColor(img, cv2.COLOR_BGR2BGRA)\n",
    "img.shape"
   ]
  },
  {
   "cell_type": "markdown",
   "metadata": {
    "id": "89flvZw6p4HC",
    "jp-MarkdownHeadingCollapsed": true,
    "tags": []
   },
   "source": [
    "#### <span style=\"font-size: 0.9em;\">🟨</span> **BGR2CMYK** "
   ]
  },
  {
   "cell_type": "code",
   "execution_count": 73,
   "metadata": {},
   "outputs": [],
   "source": [
    "# NOT SUPPORTED DIRECTLY\n",
    "\n",
    "bgr = cv2.imread(\"data/color_spaces.png\")\n",
    "bgr = cv2.normalize(bgr, None, alpha=0, beta=1, norm_type=cv2.NORM_MINMAX, dtype=cv2.CV_32FC3)\n",
    "cv2.imshow(\"Original Image\", bgr)\n",
    "\n",
    "# cmyk = cv2.cvtColor(bgr, cv2.COLOR_BGR2C)\n",
    "# cv2.imshow(\"Original Image\", cmyk)\n",
    "\n",
    "cv2.waitKey()\n",
    "cv2.destroyAllWindows()"
   ]
  },
  {
   "cell_type": "code",
   "execution_count": 74,
   "metadata": {},
   "outputs": [],
   "source": [
    "bgr = cv2.imread(\"data/color_spaces.png\")\n",
    "bgr = cv2.normalize(bgr, None, alpha=0, beta=1, norm_type=cv2.NORM_MINMAX, dtype=cv2.CV_32FC3)\n",
    "cv2.imshow(\"Original Image\", bgr)\n",
    "\n",
    "cmy = 1 - bgr\n",
    "cv2.imshow(\"CMY Image\", cmy)\n",
    "\n",
    "cv2.waitKey()\n",
    "cv2.destroyAllWindows()"
   ]
  },
  {
   "cell_type": "markdown",
   "metadata": {},
   "source": [
    "OpenCV does not have a direct function to convert BGR to CMYK because the CMYK color model is primarily used in the printing industry, and it is a subtractive color model, unlike the additive RGB model. OpenCV is primarily designed for computer vision tasks and image processing in digital displays, where RGB and other related color spaces (like HSV, Lab, etc.) are more commonly used.\n",
    "\n",
    "However, you can convert an RGB image to CMYK using a custom function. Here's a sample code to demonstrate how you can achieve this conversion:\n",
    "\n",
    "```python\n",
    "import cv2\n",
    "import numpy as np\n",
    "\n",
    "def bgr_to_cmyk(bgr_image):\n",
    "    # Normalize the BGR values to the range 0-1\n",
    "    bgr_image = bgr_image.astype(float) / 255.0\n",
    "    \n",
    "    # Extract B, G, and R channels\n",
    "    B = bgr_image[:, :, 0]\n",
    "    G = bgr_image[:, :, 1]\n",
    "    R = bgr_image[:, :, 2]\n",
    "    \n",
    "    # Calculate K (Black) channel\n",
    "    K = 1 - np.max(bgr_image, axis=2)\n",
    "    \n",
    "    # Avoid division by zero\n",
    "    C = (1 - R - K) / (1 - K + 1e-10)\n",
    "    M = (1 - G - K) / (1 - K + 1e-10)\n",
    "    Y = (1 - B - K) / (1 - K + 1e-10)\n",
    "    \n",
    "    # Stack channels to get the CMYK image\n",
    "    CMYK = (np.dstack((C, M, Y, K)) * 255).astype(np.uint8)\n",
    "    \n",
    "    return CMYK\n",
    "\n",
    "# Load the image\n",
    "img = cv2.imread('data/color_spaces.png')\n",
    "\n",
    "# Convert BGR to CMYK\n",
    "cmyk_image = bgr_to_cmyk(img)\n",
    "\n",
    "# Display the original and CMYK images\n",
    "cv2.imshow('Original BGR Image', img)\n",
    "cv2.imshow('CMYK Image', cmyk_image)\n",
    "cv2.waitKey(0)\n",
    "cv2.destroyAllWindows()\n",
    "```\n",
    "\n",
    "##### Explanation:\n",
    "1. **Normalization**: The BGR values are normalized to the range 0-1.\n",
    "2. **Extract Channels**: The B, G, and R channels are extracted.\n",
    "3. **Calculate K (Black) Channel**: K is calculated as \\( K = 1 - \\max(R, G, B) \\).\n",
    "4. **Calculate C, M, Y Channels**: The C, M, and Y channels are calculated using the formulas:\n",
    "   \\[\n",
    "   C = \\frac{1 - R - K}{1 - K}\n",
    "   \\]\n",
    "   \\[\n",
    "   M = \\frac{1 - G - K}{1 - K}\n",
    "   \\]\n",
    "   \\[\n",
    "   Y = \\frac{1 - B - K}{1 - K}\n",
    "   \\]\n",
    "5. **Avoid Division by Zero**: A small value (`1e-10`) is added to avoid division by zero.\n",
    "6. **Stack Channels**: The C, M, Y, and K channels are stacked together to form the CMYK image.\n",
    "7. **Display Images**: The original BGR and converted CMYK images are displayed.\n",
    "\n",
    "This custom function allows you to convert a BGR image to the CMYK color model, even though OpenCV does not provide a direct function for this conversion."
   ]
  },
  {
   "cell_type": "code",
   "execution_count": 75,
   "metadata": {},
   "outputs": [
    {
     "name": "stdout",
     "output_type": "stream",
     "text": [
      "(340, 450, 4)\n"
     ]
    }
   ],
   "source": [
    "def bgr_to_cmyk(bgr_image):\n",
    "    # Normalize the BGR values to the range 0-1\n",
    "    bgr_image = bgr_image.astype(float) / 255.0\n",
    "    \n",
    "    # Extract B, G, and R channels\n",
    "    B = bgr_image[:, :, 0]\n",
    "    G = bgr_image[:, :, 1]\n",
    "    R = bgr_image[:, :, 2]\n",
    "    # B, G, R = cv2.split(bgr_image)\n",
    "    \n",
    "    # Calculate K (Black) channel\n",
    "    K = 1 - np.max(bgr_image, axis=2)\n",
    "    # K = np.min(1-bgr_image, axis=2)\n",
    "    \n",
    "    # Avoid division by zero\n",
    "    C = (1 - R - K) / (1 - K + 1e-10)\n",
    "    M = (1 - G - K) / (1 - K + 1e-10)\n",
    "    Y = (1 - B - K) / (1 - K + 1e-10)\n",
    "    \n",
    "    # Stack channels to get the CMYK image\n",
    "    CMYK = (np.dstack((C, M, Y, K)) * 255).astype(np.uint8)\n",
    "    # cmyk = cv2.merge((C, M, Y, K))\n",
    "    \n",
    "    return CMYK\n",
    "\n",
    "# Load the image\n",
    "img = cv2.imread('data/color_spaces.png')\n",
    "\n",
    "# Convert BGR to CMYK\n",
    "cmyk_image = bgr_to_cmyk(img)\n",
    "print(cmyk_image.shape)\n",
    "\n",
    "# Display the original and CMYK images\n",
    "cv2.imshow('Original BGR Image', img)\n",
    "cv2.imshow('CMYK Image', cmyk_image)\n",
    "cv2.waitKey()\n",
    "cv2.destroyAllWindows()\n"
   ]
  },
  {
   "cell_type": "markdown",
   "metadata": {
    "id": "89flvZw6p4HC",
    "jp-MarkdownHeadingCollapsed": true,
    "tags": []
   },
   "source": [
    "#### <span style=\"font-size: 0.9em;\">🟨</span> **BGR2HSV**"
   ]
  },
  {
   "cell_type": "code",
   "execution_count": 76,
   "metadata": {},
   "outputs": [],
   "source": [
    "bgr = cv2.imread(\"data/color_spaces.png\")\n",
    "# bgr = cv2.normalize(bgr, None, alpha=0, beta=1, norm_type=cv2.NORM_MINMAX, dtype=cv2.CV_32FC3)\n",
    "cv2.imshow(\"Original Image\", bgr)\n",
    "\n",
    "hsv = cv2.cvtColor(bgr, cv2.COLOR_BGR2HSV)\n",
    "cv2.imshow(\"HSV Image\", hsv)\n",
    "\n",
    "cv2.waitKey()\n",
    "cv2.destroyAllWindows()"
   ]
  },
  {
   "cell_type": "code",
   "execution_count": 77,
   "metadata": {},
   "outputs": [],
   "source": [
    "h, s, v = cv2.split(hsv)"
   ]
  },
  {
   "cell_type": "code",
   "execution_count": 78,
   "metadata": {},
   "outputs": [
    {
     "data": {
      "text/plain": [
       "(dtype('uint8'), dtype('uint8'), dtype('uint8'))"
      ]
     },
     "execution_count": 78,
     "metadata": {},
     "output_type": "execute_result"
    }
   ],
   "source": [
    "h.dtype, s.dtype, v.dtype"
   ]
  },
  {
   "cell_type": "code",
   "execution_count": 79,
   "metadata": {},
   "outputs": [
    {
     "data": {
      "text/plain": [
       "(0, 150, 0, 255, 0, 255)"
      ]
     },
     "execution_count": 79,
     "metadata": {},
     "output_type": "execute_result"
    }
   ],
   "source": [
    "h.min(), h.max(), s.min(), s.max(), v.min(), v.max()"
   ]
  },
  {
   "cell_type": "code",
   "execution_count": 80,
   "metadata": {},
   "outputs": [],
   "source": [
    "cv2.imshow(\"Original Image\", bgr)\n",
    "\n",
    "hsv = cv2.cvtColor(bgr, cv2.COLOR_BGR2HSV)\n",
    "cv2.imshow(\"H Image\", h/180)\n",
    "cv2.imshow(\"S Image\", s/255)\n",
    "cv2.imshow(\"V Image\", v/255)\n",
    "\n",
    "cv2.waitKey()\n",
    "cv2.destroyAllWindows()"
   ]
  },
  {
   "cell_type": "code",
   "execution_count": 81,
   "metadata": {},
   "outputs": [
    {
     "name": "stdout",
     "output_type": "stream",
     "text": [
      "0.0 300.0 0.0 0.9999999 0.0 1.0\n"
     ]
    }
   ],
   "source": [
    "bgr = cv2.imread(\"data/color_spaces.png\")\n",
    "bgr = cv2.normalize(\n",
    "    bgr, None, alpha=0, beta=1, norm_type=cv2.NORM_MINMAX, dtype=cv2.CV_32FC3\n",
    ")\n",
    "cv2.imshow(\"Original Image\", bgr)\n",
    "\n",
    "hsv = cv2.cvtColor(bgr, cv2.COLOR_BGR2HSV_FULL)\n",
    "\n",
    "h, s, v = cv2.split(hsv)\n",
    "\n",
    "print(h.min(), h.max(), s.min(), s.max(), v.min(), v.max())\n",
    "\n",
    "cv2.imshow(\"Hue\", h/360)\n",
    "cv2.imshow(\"Saturation\", s)\n",
    "cv2.imshow(\"Value\", v)\n",
    "\n",
    "cv2.waitKey()\n",
    "cv2.destroyAllWindows()"
   ]
  },
  {
   "cell_type": "code",
   "execution_count": 82,
   "metadata": {},
   "outputs": [
    {
     "data": {
      "text/plain": [
       "(300.0, 212.5)"
      ]
     },
     "execution_count": 82,
     "metadata": {},
     "output_type": "execute_result"
    }
   ],
   "source": [
    "h.max(), (300/360)*255"
   ]
  },
  {
   "cell_type": "markdown",
   "metadata": {
    "id": "89flvZw6p4HC",
    "jp-MarkdownHeadingCollapsed": true,
    "tags": []
   },
   "source": [
    "#### <span style=\"font-size: 0.9em;\">🟨</span> **BGR2LAB**"
   ]
  },
  {
   "cell_type": "code",
   "execution_count": 83,
   "metadata": {},
   "outputs": [
    {
     "data": {
      "text/plain": [
       "(44, 44)"
      ]
     },
     "execution_count": 83,
     "metadata": {},
     "output_type": "execute_result"
    }
   ],
   "source": [
    "cv2.COLOR_BGR2LAB, cv2.COLOR_BGR2Lab"
   ]
  },
  {
   "cell_type": "code",
   "execution_count": 100,
   "metadata": {},
   "outputs": [
    {
     "name": "stdout",
     "output_type": "stream",
     "text": [
      "0 255 42 226 20 223\n"
     ]
    }
   ],
   "source": [
    "bgr = cv2.imread(\"data/color_spaces.png\")\n",
    "# bgr = cv2.normalize(bgr, None, alpha=0, beta=1, norm_type=cv2.NORM_MINMAX, dtype=cv2.CV_32FC3)\n",
    "cv2.imshow(\"Original Image\", bgr)\n",
    "\n",
    "lab = cv2.cvtColor(bgr, cv2.COLOR_BGR2Lab)\n",
    "\n",
    "l, a, b = cv2.split(lab)\n",
    "print(l.min(), l.max(), a.min(), a.max(), b.min(), b.max())\n",
    "\n",
    "cv2.imshow(\"L*\", l)\n",
    "cv2.imshow(\"a*\", a)\n",
    "cv2.imshow(\"b*\", b)\n",
    "\n",
    "cv2.waitKey()\n",
    "cv2.destroyAllWindows()"
   ]
  },
  {
   "cell_type": "markdown",
   "metadata": {
    "id": "89flvZw6p4HC",
    "jp-MarkdownHeadingCollapsed": true,
    "tags": []
   },
   "source": [
    "#### <span style=\"font-size: 0.9em;\">🟨</span> **BGR2YCbCr**"
   ]
  },
  {
   "cell_type": "code",
   "execution_count": null,
   "metadata": {},
   "outputs": [],
   "source": []
  },
  {
   "cell_type": "markdown",
   "metadata": {
    "id": "89flvZw6p4HC",
    "jp-MarkdownHeadingCollapsed": true,
    "tags": []
   },
   "source": [
    "#### <span style=\"font-size: 0.9em;\">🟨</span> **BGR2Luv**"
   ]
  },
  {
   "cell_type": "code",
   "execution_count": null,
   "metadata": {},
   "outputs": [],
   "source": []
  },
  {
   "cell_type": "markdown",
   "metadata": {
    "id": "8d25DyDxov7H",
    "jp-MarkdownHeadingCollapsed": true,
    "tags": []
   },
   "source": [
    "### <span style=\"font-size: 0.9em;\">🟧</span> **Manipulating Channels**"
   ]
  },
  {
   "cell_type": "markdown",
   "metadata": {
    "id": "89flvZw6p4HC",
    "jp-MarkdownHeadingCollapsed": true,
    "tags": []
   },
   "source": [
    "#### <span style=\"font-size: 0.9em;\">🟨</span> **Example 1: Color Inversion**"
   ]
  },
  {
   "cell_type": "code",
   "execution_count": 85,
   "metadata": {},
   "outputs": [],
   "source": [
    "img = cv2.imread('data/color_spaces.png')\n",
    "img = cv2.normalize(img, None, alpha=0, beta=1, norm_type=cv2.NORM_MINMAX, dtype=cv2.CV_32FC3)\n",
    "\n",
    "hsv = cv2.cvtColor(img, cv2.COLOR_BGR2HSV)\n",
    "\n",
    "h, s, v = cv2.split(hsv)\n",
    "h = 360 - h\n",
    "inverted_hsv = cv2.merge((h, s, v))\n",
    "bgr = cv2.cvtColor(inverted_hsv, cv2.COLOR_HSV2BGR)\n",
    "\n",
    "cv2.imshow('Original Image', img)\n",
    "cv2.imshow('Hue Inverted Image', bgr)\n",
    "cv2.waitKey()\n",
    "cv2.destroyAllWindows()"
   ]
  },
  {
   "cell_type": "markdown",
   "metadata": {
    "id": "89flvZw6p4HC",
    "jp-MarkdownHeadingCollapsed": true,
    "tags": []
   },
   "source": [
    "#### <span style=\"font-size: 0.9em;\">🟨</span> **Example 2: Color Shifting in HSV**"
   ]
  },
  {
   "cell_type": "code",
   "execution_count": 86,
   "metadata": {},
   "outputs": [
    {
     "name": "stdout",
     "output_type": "stream",
     "text": [
      "60.0 360.0\n"
     ]
    }
   ],
   "source": [
    "img = cv2.imread('data/color_spaces.png')\n",
    "img = cv2.normalize(img, None, alpha=0, beta=1, norm_type=cv2.NORM_MINMAX, dtype=cv2.CV_32FC3)\n",
    "\n",
    "hsv = cv2.cvtColor(img, cv2.COLOR_BGR2HSV)\n",
    "\n",
    "h, s, v = cv2.split(hsv)\n",
    "h += 60\n",
    "print(h.min(), h.max())\n",
    "inverted_hsv = cv2.merge((h, s, v))\n",
    "bgr = cv2.cvtColor(inverted_hsv, cv2.COLOR_HSV2BGR)\n",
    "\n",
    "cv2.imshow('Original Image', img)\n",
    "cv2.imshow('Hue Inverted Image', bgr)\n",
    "cv2.waitKey()\n",
    "cv2.destroyAllWindows()"
   ]
  },
  {
   "cell_type": "markdown",
   "metadata": {
    "id": "89flvZw6p4HC",
    "jp-MarkdownHeadingCollapsed": true,
    "tags": []
   },
   "source": [
    "#### <span style=\"font-size: 0.9em;\">🟨</span> **Example 3: Thresholding**"
   ]
  },
  {
   "cell_type": "code",
   "execution_count": 87,
   "metadata": {},
   "outputs": [],
   "source": [
    "img = cv2.imread('data/color_spaces.png')\n",
    "# img = cv2.normalize(img, None, alpha=0, beta=1, norm_type=cv2.NORM_MINMAX, dtype=cv2.CV_32FC3)\n",
    "\n",
    "hsv = cv2.cvtColor(img, cv2.COLOR_BGR2HSV)\n",
    "\n",
    "# Define the range for the blue color in HSV\n",
    "lower_blue = np.array([100, 150, 50])\n",
    "upper_blue = np.array([140, 255, 255])\n",
    "\n",
    "# Create a binary mask where blue colors are white and the rest are black\n",
    "# (hsv > lower_blue) & (hsv < upper_blue)\n",
    "mask = cv2.inRange(hsv, lower_blue, upper_blue)\n",
    "\n",
    "# Apply the mask to the original image\n",
    "\n",
    "cv2.imshow('Original Image', img)\n",
    "cv2.imshow('Mask', mask)\n",
    "# cv2.imshow('Result', result)\n",
    "cv2.waitKey()\n",
    "cv2.destroyAllWindows()\n"
   ]
  },
  {
   "cell_type": "markdown",
   "metadata": {
    "jp-MarkdownHeadingCollapsed": true
   },
   "source": [
    "## <span style=\"font-size: 0.9em;\">🟥</span> **Section 2: Mini Projects**"
   ]
  },
  {
   "cell_type": "code",
   "execution_count": 14,
   "metadata": {},
   "outputs": [],
   "source": [
    "from IPython.display import clear_output\n",
    "import cv2\n",
    "import numpy as np\n",
    "import os"
   ]
  },
  {
   "cell_type": "markdown",
   "metadata": {
    "id": "8d25DyDxov7H",
    "jp-MarkdownHeadingCollapsed": true,
    "tags": []
   },
   "source": [
    "### <span style=\"font-size: 0.9em;\">🟧</span> **Keying**"
   ]
  },
  {
   "cell_type": "markdown",
   "metadata": {},
   "source": [
    "<img src=\"attachment:45276a48-c469-4c38-9e60-2d32fe57b59d.png\" alt=\"image.png\" width=\"400\"/>"
   ]
  },
  {
   "cell_type": "code",
   "execution_count": 6,
   "metadata": {},
   "outputs": [],
   "source": [
    "img = cv2.imread(\"data/keying.png\")\n",
    "\n",
    "cv2.imshow(\"Keying\", img)\n",
    "cv2.waitKey()\n",
    "cv2.destroyAllWindows()"
   ]
  },
  {
   "cell_type": "code",
   "execution_count": 8,
   "metadata": {},
   "outputs": [],
   "source": [
    "hsv = cv2.cvtColor(img, cv2.COLOR_BGR2HSV_FULL)\n",
    "h, s, v = cv2.split(hsv)"
   ]
  },
  {
   "cell_type": "code",
   "execution_count": 9,
   "metadata": {},
   "outputs": [
    {
     "name": "stdout",
     "output_type": "stream",
     "text": [
      "20 133 142\n"
     ]
    }
   ],
   "source": [
    "def callback_function(event, x, y, flag, param):\n",
    "    clear_output(wait=True)\n",
    "    print(h[y, x], s[y, x], v[y, x])\n",
    "\n",
    "cv2.imshow(\"Image\", img)\n",
    "cv2.setMouseCallback(\"Image\", callback_function)\n",
    "\n",
    "cv2.waitKey()\n",
    "cv2.destroyAllWindows()"
   ]
  },
  {
   "cell_type": "code",
   "execution_count": 15,
   "metadata": {},
   "outputs": [
    {
     "data": {
      "text/plain": [
       "True"
      ]
     },
     "execution_count": 15,
     "metadata": {},
     "output_type": "execute_result"
    }
   ],
   "source": [
    "lower_green = np.array([85, 80, 120])\n",
    "upper_green = np.array([105, 255, 255])\n",
    "\n",
    "mask = ~cv2.inRange(hsv, lower_green, upper_green)\n",
    "\n",
    "img_alpha = cv2.cvtColor(img, cv2.COLOR_BGR2BGRA)\n",
    "img_alpha[..., -1] = mask.copy()\n",
    "\n",
    "cv2.imshow(\"Image\", img)\n",
    "cv2.imshow(\"Mask\", mask)\n",
    "cv2.imshow(\"Key\", img_alpha[..., -1])\n",
    "cv2.waitKey()\n",
    "cv2.destroyAllWindows()\n",
    "\n",
    "os.makedirs(\"results\",exist_ok=True)\n",
    "cv2.imwrite(\"results/key.png\", img_alpha)"
   ]
  },
  {
   "cell_type": "code",
   "execution_count": 13,
   "metadata": {},
   "outputs": [],
   "source": [
    "cap = cv2.VideoCapture(0)\n",
    "cap.set(cv2.CAP_PROP_FRAME_WIDTH, 300)\n",
    "cap.set(cv2.CAP_PROP_FRAME_HEIGHT, 300)\n",
    "\n",
    "while cap.isOpened():\n",
    "    ret, frame = cap.read()\n",
    "\n",
    "    if not ret:\n",
    "        break\n",
    "        \n",
    "    cv2.imshow(\"Frame\", frame)\n",
    "    \n",
    "    key = cv2.waitKey(1)\n",
    "    if key == ord(\"q\"):\n",
    "        break\n",
    "    \n",
    "cv2.destroyAllWindows()\n",
    "cap.release()"
   ]
  },
  {
   "cell_type": "markdown",
   "metadata": {
    "id": "8d25DyDxov7H",
    "jp-MarkdownHeadingCollapsed": true,
    "tags": []
   },
   "source": [
    "### <span style=\"font-size: 0.9em;\">🟧</span> **Skin Segmentation**"
   ]
  },
  {
   "cell_type": "code",
   "execution_count": 16,
   "metadata": {},
   "outputs": [],
   "source": [
    "img = cv2.imread(\"data/keying.png\")\n",
    "\n",
    "cv2.imshow(\"Keying\", img)\n",
    "cv2.waitKey()\n",
    "cv2.destroyAllWindows()"
   ]
  },
  {
   "cell_type": "code",
   "execution_count": 17,
   "metadata": {},
   "outputs": [],
   "source": [
    "hsv = cv2.cvtColor(img, cv2.COLOR_BGR2HSV_FULL)\n",
    "h, s, v = cv2.split(hsv)"
   ]
  },
  {
   "cell_type": "code",
   "execution_count": 18,
   "metadata": {
    "scrolled": true
   },
   "outputs": [
    {
     "name": "stdout",
     "output_type": "stream",
     "text": [
      "93 130 188\n"
     ]
    }
   ],
   "source": [
    "def callback_function(event, x, y, flag, param):\n",
    "    clear_output(wait=True)\n",
    "    print(h[y, x], s[y, x], v[y, x])\n",
    "\n",
    "cv2.imshow(\"Image\", img)\n",
    "cv2.setMouseCallback(\"Image\", callback_function)\n",
    "\n",
    "cv2.waitKey()\n",
    "cv2.destroyAllWindows()"
   ]
  },
  {
   "cell_type": "code",
   "execution_count": 22,
   "metadata": {},
   "outputs": [],
   "source": [
    "# lower_green = np.array([10, 90, 90])\n",
    "# lower_green = np.array([10, 70, 70]) \n",
    "# lower_green = np.array([0, 70, 70]) \n",
    "lower_green = np.array([0, 50, 50]) \n",
    "upper_green = np.array([30, 255, 255])\n",
    "\n",
    "mask = cv2.inRange(hsv, lower_green, upper_green)\n",
    "\n",
    "skin = cv2.bitwise_and(img, img, mask=mask)\n",
    "\n",
    "cv2.imshow(\"Image\", img)\n",
    "cv2.imshow(\"Mask\", mask)\n",
    "cv2.imshow(\"Skin\", skin)\n",
    "cv2.waitKey()\n",
    "cv2.destroyAllWindows()"
   ]
  },
  {
   "cell_type": "markdown",
   "metadata": {
    "id": "89flvZw6p4HC",
    "tags": []
   },
   "source": [
    "#### <span style=\"font-size: 0.9em;\">🟨</span> **More about skin segmentation**"
   ]
  },
  {
   "cell_type": "markdown",
   "metadata": {},
   "source": [
    "[Mastering OpenCV 4 with Python 3](https://github.com/PacktPublishing/Mastering-OpenCV-4-with-Python/blob/master/Chapter05/01-chapter-content/skin_segmentation.py)"
   ]
  },
  {
   "cell_type": "markdown",
   "metadata": {
    "id": "89flvZw6p4HC",
    "jp-MarkdownHeadingCollapsed": true,
    "tags": []
   },
   "source": [
    "### <span style=\"font-size: 0.9em;\">🟪</span> **Ball Tracking**"
   ]
  },
  {
   "cell_type": "markdown",
   "metadata": {},
   "source": [
    "[Sample Code](https://www.youtube.com/watch?v=aFNDh5k3SjU)"
   ]
  },
  {
   "cell_type": "code",
   "execution_count": null,
   "metadata": {},
   "outputs": [],
   "source": []
  },
  {
   "cell_type": "markdown",
   "metadata": {},
   "source": [
    "Please Also change color of the ball"
   ]
  },
  {
   "cell_type": "markdown",
   "metadata": {
    "id": "89flvZw6p4HC",
    "jp-MarkdownHeadingCollapsed": true,
    "tags": []
   },
   "source": [
    "#### <span style=\"font-size: 0.9em;\">🟨</span> **Also change color of the ball**"
   ]
  },
  {
   "cell_type": "code",
   "execution_count": null,
   "metadata": {},
   "outputs": [],
   "source": []
  },
  {
   "cell_type": "markdown",
   "metadata": {
    "id": "89flvZw6p4HC",
    "jp-MarkdownHeadingCollapsed": true,
    "tags": []
   },
   "source": [
    "### <span style=\"font-size: 0.9em;\">🟪</span> **Ping Pong**"
   ]
  },
  {
   "attachments": {
    "fb2a23f8-90b5-4f68-b832-960a84466240.png": {
     "image/png": "[encoded data removed]"
    }
   },
   "cell_type": "markdown",
   "metadata": {},
   "source": [
    "![image.png](attachment:fb2a23f8-90b5-4f68-b832-960a84466240.png)"
   ]
  },
  {
   "cell_type": "markdown",
   "metadata": {},
   "source": [
    "[Sample Code](https://www.geeksforgeeks.org/create-a-pong-game-in-python-pygame/)"
   ]
  },
  {
   "cell_type": "code",
   "execution_count": null,
   "metadata": {},
   "outputs": [],
   "source": []
  }
 ],
 "metadata": {
  "colab": {
   "collapsed_sections": [],
   "name": "Introduction to PyTorch [howsam.org].ipynb",
   "provenance": []
  },
  "kernelspec": {
   "display_name": "venv_general_312",
   "language": "python",
   "name": "python3"
  },
  "language_info": {
   "codemirror_mode": {
    "name": "ipython",
    "version": 3
   },
   "file_extension": ".py",
   "mimetype": "text/x-python",
   "name": "python",
   "nbconvert_exporter": "python",
   "pygments_lexer": "ipython3",
   "version": "3.12.9"
  }
 },
 "nbformat": 4,
 "nbformat_minor": 4
}
